{
 "cells": [
  {
   "cell_type": "code",
   "execution_count": 39,
   "id": "4e118a42",
   "metadata": {},
   "outputs": [],
   "source": [
    "import numpy as np\n",
    "import matplotlib.pyplot as plt\n",
    "import numpy as np\n",
    "from scipy.interpolate import interp1d\n",
    "import skimage\n",
    "from skimage.morphology import skeletonize\n",
    "from skimage.util import invert\n",
    "import warnings\n",
    "warnings.filterwarnings(\"ignore\")"
   ]
  },
  {
   "cell_type": "code",
   "execution_count": 40,
   "id": "e47d212f",
   "metadata": {},
   "outputs": [],
   "source": [
    "def plot_outline(cropped: np.ndarray, outline: np.ndarray, size: int = 6) -> None:\n",
    "    \"\"\"\n",
    "    Plot an outline of the shape of the snake.\n",
    "\n",
    "    Parameters\n",
    "    ----------\n",
    "    cropped : np.ndarray\n",
    "        Cropped image of the snake.\n",
    "    outline : np.ndarray\n",
    "        A 2D array giving pixel values for an outline.\n",
    "\n",
    "    Returns\n",
    "    -------\n",
    "    \"\"\"\n",
    "    plt.figure(figsize=(size, size))\n",
    "    plt.imshow(cropped, cmap=\"gray\")\n",
    "    plt.scatter(outline[:, 0], outline[:, 1], s=1, color=\"red\")\n",
    "    plt.show()"
   ]
  },
  {
   "cell_type": "code",
   "execution_count": 41,
   "id": "49e1d5a0",
   "metadata": {},
   "outputs": [],
   "source": [
    "front = np.load(\"front.npy\")\n",
    "bottom = np.load(\"bottom.npy\")\n",
    "img = np.load(\"samp_img.npy\")"
   ]
  },
  {
   "cell_type": "code",
   "execution_count": 42,
   "id": "6b0e856a",
   "metadata": {},
   "outputs": [
    {
     "data": {
      "image/png": "[encoded data removed]",
      "text/plain": [
       "<Figure size 432x432 with 1 Axes>"
      ]
     },
     "metadata": {
      "needs_background": "light"
     },
     "output_type": "display_data"
    },
    {
     "data": {
      "image/png": "[encoded data removed]",
      "text/plain": [
       "<Figure size 432x432 with 1 Axes>"
      ]
     },
     "metadata": {
      "needs_background": "light"
     },
     "output_type": "display_data"
    }
   ],
   "source": [
    "plot_outline(img, front)\n",
    "plot_outline(img, bottom)"
   ]
  },
  {
   "cell_type": "code",
   "execution_count": 43,
   "id": "1d323a59",
   "metadata": {},
   "outputs": [
    {
     "data": {
      "text/plain": [
       "262"
      ]
     },
     "execution_count": 43,
     "metadata": {},
     "output_type": "execute_result"
    }
   ],
   "source": [
    "np.amax(bottom[:, 0])"
   ]
  },
  {
   "cell_type": "code",
   "execution_count": 47,
   "id": "1a6ab8ff",
   "metadata": {},
   "outputs": [],
   "source": []
  },
  {
   "cell_type": "code",
   "execution_count": 64,
   "id": "55132ea5",
   "metadata": {},
   "outputs": [],
   "source": [
    "bot_cols = bottom[:, 0]\n",
    "extra_cols = list(np.where(bot_cols > np.amax(front[:, 0]))[0])\n",
    "extra_bit = bottom[extra_cols]\n",
    "hybrid = np.vstack((front, extra_bit))"
   ]
  },
  {
   "cell_type": "code",
   "execution_count": 65,
   "id": "5b96cace",
   "metadata": {},
   "outputs": [],
   "source": []
  },
  {
   "cell_type": "code",
   "execution_count": 66,
   "id": "19d52324",
   "metadata": {},
   "outputs": [],
   "source": []
  },
  {
   "cell_type": "code",
   "execution_count": 67,
   "id": "739d26cd",
   "metadata": {},
   "outputs": [
    {
     "data": {
      "image/png": "[encoded data removed]",
      "text/plain": [
       "<Figure size 720x720 with 1 Axes>"
      ]
     },
     "metadata": {
      "needs_background": "light"
     },
     "output_type": "display_data"
    }
   ],
   "source": [
    "plot_outline(img, hybrid, size=10)"
   ]
  },
  {
   "cell_type": "code",
   "execution_count": 68,
   "id": "7542f278",
   "metadata": {},
   "outputs": [
    {
     "data": {
      "text/plain": [
       "array([[123, 593],\n",
       "       [123, 594],\n",
       "       [122, 595],\n",
       "       [122, 596],\n",
       "       [122, 597],\n",
       "       [122, 598],\n",
       "       [122, 599],\n",
       "       [123, 600],\n",
       "       [124, 601],\n",
       "       [124, 602],\n",
       "       [125, 603],\n",
       "       [126, 604],\n",
       "       [127, 605],\n",
       "       [128, 606],\n",
       "       [128, 607],\n",
       "       [129, 608],\n",
       "       [130, 609],\n",
       "       [130, 610],\n",
       "       [131, 611],\n",
       "       [132, 612],\n",
       "       [132, 613],\n",
       "       [133, 614],\n",
       "       [134, 615],\n",
       "       [134, 616],\n",
       "       [135, 617],\n",
       "       [136, 618],\n",
       "       [136, 619],\n",
       "       [137, 620],\n",
       "       [137, 621],\n",
       "       [137, 622],\n",
       "       [138, 623],\n",
       "       [138, 624],\n",
       "       [139, 625],\n",
       "       [139, 626],\n",
       "       [140, 627],\n",
       "       [140, 628],\n",
       "       [141, 629],\n",
       "       [141, 630],\n",
       "       [142, 631],\n",
       "       [142, 632],\n",
       "       [143, 633],\n",
       "       [143, 634],\n",
       "       [144, 635],\n",
       "       [144, 636],\n",
       "       [144, 637],\n",
       "       [145, 638],\n",
       "       [145, 639],\n",
       "       [146, 640],\n",
       "       [146, 641],\n",
       "       [146, 642],\n",
       "       [146, 643],\n",
       "       [147, 644],\n",
       "       [147, 645],\n",
       "       [148, 646],\n",
       "       [148, 647],\n",
       "       [149, 648],\n",
       "       [149, 649],\n",
       "       [150, 650],\n",
       "       [150, 651],\n",
       "       [150, 652],\n",
       "       [151, 653],\n",
       "       [151, 654],\n",
       "       [152, 655],\n",
       "       [152, 656],\n",
       "       [152, 657],\n",
       "       [153, 658],\n",
       "       [153, 659],\n",
       "       [154, 660],\n",
       "       [154, 661],\n",
       "       [154, 662],\n",
       "       [155, 663],\n",
       "       [155, 664],\n",
       "       [156, 665],\n",
       "       [156, 666],\n",
       "       [156, 667],\n",
       "       [157, 668],\n",
       "       [157, 669],\n",
       "       [157, 670],\n",
       "       [158, 671],\n",
       "       [158, 672],\n",
       "       [158, 673],\n",
       "       [158, 674],\n",
       "       [159, 675],\n",
       "       [159, 676],\n",
       "       [160, 677],\n",
       "       [160, 678],\n",
       "       [160, 679],\n",
       "       [161, 680],\n",
       "       [161, 681],\n",
       "       [161, 682],\n",
       "       [162, 683],\n",
       "       [162, 684],\n",
       "       [162, 685],\n",
       "       [162, 686],\n",
       "       [163, 687],\n",
       "       [163, 688],\n",
       "       [163, 689],\n",
       "       [164, 690],\n",
       "       [164, 691],\n",
       "       [164, 692],\n",
       "       [165, 693],\n",
       "       [165, 694],\n",
       "       [165, 695],\n",
       "       [166, 696],\n",
       "       [166, 697],\n",
       "       [166, 698],\n",
       "       [166, 699],\n",
       "       [167, 700],\n",
       "       [167, 701],\n",
       "       [168, 702],\n",
       "       [168, 703],\n",
       "       [168, 704],\n",
       "       [168, 705],\n",
       "       [169, 706],\n",
       "       [169, 707],\n",
       "       [169, 708],\n",
       "       [170, 709],\n",
       "       [170, 710],\n",
       "       [170, 711],\n",
       "       [171, 712],\n",
       "       [171, 713],\n",
       "       [171, 714],\n",
       "       [172, 715],\n",
       "       [172, 716],\n",
       "       [172, 717],\n",
       "       [173, 718],\n",
       "       [173, 719],\n",
       "       [173, 720],\n",
       "       [174, 721],\n",
       "       [174, 722],\n",
       "       [174, 723],\n",
       "       [175, 724],\n",
       "       [175, 725],\n",
       "       [176, 726],\n",
       "       [176, 727],\n",
       "       [176, 728],\n",
       "       [177, 729],\n",
       "       [177, 730],\n",
       "       [178, 731],\n",
       "       [178, 732],\n",
       "       [178, 733],\n",
       "       [179, 734],\n",
       "       [179, 735],\n",
       "       [180, 736],\n",
       "       [180, 737],\n",
       "       [181, 738],\n",
       "       [181, 739],\n",
       "       [182, 740],\n",
       "       [182, 741],\n",
       "       [183, 742],\n",
       "       [183, 743],\n",
       "       [184, 744],\n",
       "       [184, 745],\n",
       "       [185, 746],\n",
       "       [185, 747],\n",
       "       [186, 748],\n",
       "       [186, 749],\n",
       "       [187, 750],\n",
       "       [187, 751],\n",
       "       [188, 752],\n",
       "       [189, 753],\n",
       "       [189, 754],\n",
       "       [190, 755],\n",
       "       [191, 756],\n",
       "       [191, 757],\n",
       "       [192, 758],\n",
       "       [193, 759],\n",
       "       [193, 760],\n",
       "       [194, 761],\n",
       "       [195, 762],\n",
       "       [196, 763],\n",
       "       [197, 764],\n",
       "       [197, 765],\n",
       "       [198, 766],\n",
       "       [199, 767],\n",
       "       [200, 768],\n",
       "       [201, 769],\n",
       "       [202, 770],\n",
       "       [203, 771],\n",
       "       [204, 772],\n",
       "       [205, 773],\n",
       "       [206, 774],\n",
       "       [207, 775],\n",
       "       [208, 776],\n",
       "       [210, 777],\n",
       "       [211, 778],\n",
       "       [212, 779],\n",
       "       [214, 780],\n",
       "       [215, 781],\n",
       "       [216, 782],\n",
       "       [218, 783],\n",
       "       [219, 784],\n",
       "       [221, 785],\n",
       "       [222, 786],\n",
       "       [223, 787],\n",
       "       [225, 788],\n",
       "       [227, 789],\n",
       "       [229, 790],\n",
       "       [231, 791],\n",
       "       [232, 792],\n",
       "       [234, 793],\n",
       "       [237, 794],\n",
       "       [239, 795],\n",
       "       [242, 796],\n",
       "       [245, 797],\n",
       "       [251, 798],\n",
       "       [252, 798],\n",
       "       [253, 798],\n",
       "       [254, 798],\n",
       "       [255, 798],\n",
       "       [256, 798],\n",
       "       [257, 798],\n",
       "       [258, 798],\n",
       "       [259, 798],\n",
       "       [260, 798],\n",
       "       [261, 798],\n",
       "       [262, 798]])"
      ]
     },
     "execution_count": 68,
     "metadata": {},
     "output_type": "execute_result"
    }
   ],
   "source": [
    "hybrid"
   ]
  },
  {
   "cell_type": "code",
   "execution_count": null,
   "id": "8f9f0a89",
   "metadata": {},
   "outputs": [],
   "source": []
  },
  {
   "cell_type": "code",
   "execution_count": null,
   "id": "66eeadf4",
   "metadata": {},
   "outputs": [],
   "source": []
  },
  {
   "cell_type": "markdown",
   "id": "02c54da1",
   "metadata": {},
   "source": [
    "- The first column of the outline is the column index aka the x coordinate of a point\n",
    "\n",
    "- The second column of the outline is the row index aka the y coordinate of a point\n",
    "\n",
    "When we create the `front` outline we sweep over rows of the image and find column values that are non zero. That means in `front` we can have repeat column values aka repeat x coordinates.\n",
    "\n",
    "When we create the `bottom` outline we sweep over columns of the image and find row row values that are non zero. That means `bottom` can have repeat row values aka repeat y coordinates.\n",
    "\n",
    "What we want to do is combine the two outlines so that one fills in the gaps of the other. For example, if we have a front outline that does not actually cover the whole snake, we want to be able to take the bottom outline and supplement the top outline.\n",
    "\n",
    "The issue is the repeat values are in a different place for each outline. ANd just a simple meshing of values does not work.\n"
   ]
  },
  {
   "cell_type": "code",
   "execution_count": null,
   "id": "39c62b59",
   "metadata": {},
   "outputs": [],
   "source": []
  },
  {
   "cell_type": "code",
   "execution_count": null,
   "id": "357da682",
   "metadata": {},
   "outputs": [],
   "source": []
  }
 ],
 "metadata": {
  "kernelspec": {
   "display_name": "deeplabcut",
   "language": "python",
   "name": "deeplabcut"
  },
  "language_info": {
   "codemirror_mode": {
    "name": "ipython",
    "version": 3
   },
   "file_extension": ".py",
   "mimetype": "text/x-python",
   "name": "python",
   "nbconvert_exporter": "python",
   "pygments_lexer": "ipython3",
   "version": "3.8.13"
  }
 },
 "nbformat": 4,
 "nbformat_minor": 5
}
