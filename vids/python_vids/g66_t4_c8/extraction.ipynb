{
 "cells": [
  {
   "cell_type": "code",
   "execution_count": 18,
   "id": "3ee5d0e5",
   "metadata": {},
   "outputs": [],
   "source": [
    "import matplotlib.pyplot as plt\n",
    "import numpy as np\n",
    "from scipy.interpolate import interp1d\n",
    "import skimage\n",
    "from skimage.morphology import skeletonize\n",
    "from skimage.util import invert"
   ]
  },
  {
   "cell_type": "markdown",
   "id": "178faac2",
   "metadata": {},
   "source": [
    "### First step is to load in the image and plot it. \n",
    "\n",
    "The purpose of this step is to see where I should crop the image so that we just have an image from the head to the point of departure of the snake. This cropping step is not easily automatable right now and I am using this as a stop gap measure until I find a better method."
   ]
  },
  {
   "cell_type": "code",
   "execution_count": 21,
   "id": "4bb5621e",
   "metadata": {},
   "outputs": [],
   "source": [
    "f_num = \"0008\"\n",
    "img_path = \"processed_ims/im\" + f_num + \".png\"  # specify the image we want to use.\n",
    "save_path = \"extracted_data/im\" + f_num  # place to save the extracted data\n",
    "#loaded_arr = np.load(save_path + \".npz\")\n",
    "#crop_points = loaded_arr[\"arr_4\"]\n",
    "# outlier_points = loaded_arr[\"arr_5\"]\n",
    "\n",
    "\n",
    "def plot_img(img: np.ndarray, size: int = 6) -> None:\n",
    "    \"\"\"\n",
    "    Plot an image.\n",
    "\n",
    "    Parameters\n",
    "    ----------\n",
    "    img : np.ndarray\n",
    "        Image array.\n",
    "    figsize : int\n",
    "        Size of figure. Default 8x8.\n",
    "\n",
    "    Returns\n",
    "    -------\n",
    "    \"\"\"\n",
    "    plt.figure(figsize=(size, size))\n",
    "    skimage.io.imshow(img, cmap=\"gray\")\n",
    "    plt.show()\n",
    "\n",
    "\n",
    "def load_and_plot(img_path: str) -> np.ndarray:\n",
    "    \"\"\"\n",
    "    Load the image and plot it. I'm plotting the inverse so that the snake has\n",
    "    high pixel values and the background has low pixel values.\n",
    "\n",
    "    Parameters\n",
    "    ----------\n",
    "    img_path : str\n",
    "        Path to image.\n",
    "\n",
    "    Returns\n",
    "    -------\n",
    "    img : np.ndarray\n",
    "        Inverted image array.\n",
    "    \"\"\"\n",
    "    img = skimage.io.imread(img_path)\n",
    "    img = invert(img)\n",
    "    img = make_truly_bw(img)\n",
    "    plot_img(img)\n",
    "    return img\n",
    "\n",
    "\n",
    "def make_truly_bw(img):\n",
    "    \"\"\"\n",
    "    Force all pixels to be black or white.\n",
    "\n",
    "    Parameters\n",
    "    ----------\n",
    "    img : np.ndarray\n",
    "        Grayscale image array.\n",
    "\n",
    "    Returns\n",
    "    -------\n",
    "    img : np.ndarray\n",
    "        Image containing only black and white pixel values.\n",
    "    \"\"\"\n",
    "    img = 255 * (img > 100)\n",
    "    return img"
   ]
  },
  {
   "cell_type": "code",
   "execution_count": 22,
   "id": "02a1e136",
   "metadata": {},
   "outputs": [
    {
     "data": {
      "image/png": "[encoded data removed]",
      "text/plain": [
       "<Figure size 432x432 with 2 Axes>"
      ]
     },
     "metadata": {
      "needs_background": "light"
     },
     "output_type": "display_data"
    }
   ],
   "source": [
    "img = load_and_plot(img_path)"
   ]
  },
  {
   "cell_type": "markdown",
   "id": "e43a73c9",
   "metadata": {},
   "source": [
    "### The next step is to crop the image so that the picture only includes the snake from the head to the point of departure\n",
    "\n",
    "The reason for this is that we are modeling the snake from the tip to the point it leaves the ground and the extra information is superfluous."
   ]
  },
  {
   "cell_type": "code",
   "execution_count": 23,
   "id": "21f30bf5",
   "metadata": {},
   "outputs": [],
   "source": [
    "def crop(\n",
    "    img: np.ndarray, left: int, right: int =-1, top: int=0, bottom: int = 3300, size: int = 8\n",
    ") -> np.ndarray:\n",
    "    \"\"\"\n",
    "    Crop the image so only to tip to the point of departure are visible.\n",
    "\n",
    "    Crop the image horizontally and vertically. Plot the result next to the\n",
    "    original. The intention is that this function provides some interactivty\n",
    "    in the cropping process.\n",
    "\n",
    "    Parameters\n",
    "    ----------\n",
    "    img : np.ndarray\n",
    "        Image array.\n",
    "    left : int\n",
    "        Drop all pixels before this on the left of the image.\n",
    "    right : int\n",
    "        Drop all pixels after this on the right of the image.\n",
    "    top : int\n",
    "        Drop all pixels above this at the top of the image.\n",
    "    bottom : int\n",
    "        Drop all pixels below this at the bottom of the image. Default=3300.\n",
    "        I can provide a default here because we know where the bottom of the\n",
    "        post is.\n",
    "    size : int\n",
    "        Size of plot.\n",
    "\n",
    "    Returns\n",
    "    -------\n",
    "    img : np.ndarray\n",
    "        Cropped image.\n",
    "    \"\"\"\n",
    "    cropped = img[top:bottom, left:right]\n",
    "    # plot_img(cropped)\n",
    "    fig, ax = plt.subplots(1, 2, figsize=(size, size))\n",
    "\n",
    "    ax[0].imshow(img, cmap=plt.cm.gray)\n",
    "    ax[1].imshow(cropped, cmap=plt.cm.gray)\n",
    "    plt.show()\n",
    "    return cropped"
   ]
  },
  {
   "cell_type": "markdown",
   "id": "c633e145",
   "metadata": {},
   "source": [
    "# We need to crop the image by hand"
   ]
  },
  {
   "cell_type": "code",
   "execution_count": 24,
   "id": "180e60f5",
   "metadata": {},
   "outputs": [
    {
     "data": {
      "image/png": "[encoded data removed]",
      "text/plain": [
       "<Figure size 576x576 with 2 Axes>"
      ]
     },
     "metadata": {
      "needs_background": "light"
     },
     "output_type": "display_data"
    }
   ],
   "source": [
    "crop_points = np.array([0, -1, 0])  # left, right, top\n",
    "cropped = crop(img, left=crop_points[0], right=crop_points[1], top=crop_points[2])"
   ]
  },
  {
   "cell_type": "markdown",
   "id": "d3584466",
   "metadata": {},
   "source": [
    "### Now that we have the cropped image we need to do the extraction of the shape.\n",
    "\n",
    "For now I will extract the front of the snake but I will also look into extracting the back and the center line. In reality I think the center line is most appropriate so I will work towards that."
   ]
  },
  {
   "cell_type": "code",
   "execution_count": 25,
   "id": "e88dec8c",
   "metadata": {},
   "outputs": [],
   "source": [
    "def extract_skeleton(cropped: np.ndarray) -> np.ndarray:\n",
    "    \"\"\"\n",
    "    Extract the skeleton and return the pixel values describing the shape.\n",
    "\n",
    "    Parameters\n",
    "    ----------\n",
    "    cropped : np.ndarray\n",
    "        A cropped image of the snake.\n",
    "\n",
    "    skeleton : np.ndarray\n",
    "        A 2D array holding the x, y pixel values of the skeleton.\n",
    "    \"\"\"\n",
    "    skeleton_image = skeletonize(cropped / 255, method=\"lee\")\n",
    "    skeleton = np.argwhere(skeleton_image)\n",
    "    return skeleton\n",
    "\n",
    "\n",
    "def extract_front(cropped: np.ndarray) -> np.ndarray:\n",
    "    \"\"\"\n",
    "    Extract the front of the snake from the image and return the pixel values\n",
    "    describing the extracted shape.\n",
    "\n",
    "    Parameters\n",
    "    ----------\n",
    "    cropped : np.ndarray\n",
    "        A cropped image of the snake.\n",
    "\n",
    "    Returns\n",
    "    -------\n",
    "    front : np.ndarray\n",
    "        A 2D array holding the x,y pixel values of the front of the snake.\n",
    "    \"\"\"\n",
    "    rows = []\n",
    "    columns = []\n",
    "    for i in range(cropped.shape[0]):\n",
    "        if np.any(cropped[i]):\n",
    "            row_idx = i\n",
    "            rows.append(row_idx)\n",
    "            column_idx = np.where(cropped[i])[0][0]\n",
    "            columns.append(column_idx)\n",
    "    rows = np.array(rows)\n",
    "    columns = np.array(columns)\n",
    "    front = np.array(list(zip(columns, rows)))\n",
    "    return front\n",
    "\n",
    "\n",
    "def extract_back(cropped: np.ndarray) -> np.ndarray:\n",
    "    \"\"\"\n",
    "    Exctract a line describing the back of the snake.\n",
    "\n",
    "    Extract the back of the snake from the image and return the pixel values\n",
    "    describing the extracted shape.\n",
    "\n",
    "    Parameters\n",
    "    ----------\n",
    "    cropped : np.ndarray\n",
    "        A cropped image of the snake.\n",
    "\n",
    "    Returns\n",
    "    -------\n",
    "    back : np.ndarray\n",
    "        A 2D array holding the x, y pixel values of the back of the snake.\n",
    "    \"\"\"\n",
    "    rows = []\n",
    "    columns = []\n",
    "    for i in range(cropped.shape[1]):\n",
    "        if np.any(cropped[:, i]):\n",
    "            col_idx = i\n",
    "            columns.append(col_idx)\n",
    "            row_idx = np.where(cropped[:, i])[0][0]\n",
    "            rows.append(row_idx)\n",
    "    rows = np.array(rows)\n",
    "    columns = np.array(columns)\n",
    "    back = np.array(list(zip(columns, rows)))\n",
    "    return back\n",
    "\n",
    "\n",
    "def plot_outline(cropped: np.ndarray, outline: np.ndarray, size: int = 6) -> None:\n",
    "    \"\"\"\n",
    "    Plot an outline of the shape of the snake.\n",
    "\n",
    "    Parameters\n",
    "    ----------\n",
    "    cropped : np.ndarray\n",
    "        Cropped image of the snake.\n",
    "    outline : np.ndarray\n",
    "        A 2D array giving pixel values for an outline.\n",
    "\n",
    "    Returns\n",
    "    -------\n",
    "    \"\"\"\n",
    "    plt.figure(figsize=(size, size))\n",
    "    plt.imshow(cropped, cmap=\"gray\")\n",
    "    plt.scatter(outline[:, 0], outline[:, 1], s=2, color=\"red\")\n",
    "    plt.show()"
   ]
  },
  {
   "cell_type": "code",
   "execution_count": 26,
   "id": "79c7536e",
   "metadata": {},
   "outputs": [],
   "source": [
    "# front = extract_front(cropped)\n",
    "front = extract_front(img)"
   ]
  },
  {
   "cell_type": "markdown",
   "id": "61e3b702",
   "metadata": {},
   "source": [
    "### Sometimes we may have some erroneous points in the outline from imperfect image editing. Below we have some code to remove those points\n",
    "\n",
    "For example the outline might have a random dot off the snake like in the image below \n",
    "\n",
    "<p align=\"center\">\n",
    "    <img src=\"unwanted_point_example.png\" alt=\"unwanted point\" width=\"400\"/>\n",
    "<p/>\n",
    "\n",
    "It's obvious what point we want to remove from the outline. That red dot floating somewhere around (250, 300). Below is some code to remove the dot. I will make it a function once I have some more practice"
   ]
  },
  {
   "cell_type": "code",
   "execution_count": 27,
   "id": "8ae8ad56",
   "metadata": {},
   "outputs": [
    {
     "data": {
      "image/png": "[encoded data removed]",
      "text/plain": [
       "<Figure size 720x720 with 1 Axes>"
      ]
     },
     "metadata": {
      "needs_background": "light"
     },
     "output_type": "display_data"
    }
   ],
   "source": [
    "plot_outline(cropped, front, size=10)\n",
    "# plot_outline(img, front, size=10)"
   ]
  },
  {
   "cell_type": "code",
   "execution_count": 28,
   "id": "055b61b6",
   "metadata": {},
   "outputs": [],
   "source": [
    "# first get the rows and columns\n",
    "row = front[:, 1]\n",
    "col = front[:, 0]"
   ]
  },
  {
   "cell_type": "markdown",
   "id": "205fae43",
   "metadata": {},
   "source": [
    "# We must remove outliers by hand for now as well"
   ]
  },
  {
   "cell_type": "code",
   "execution_count": 29,
   "id": "ef7bd90a",
   "metadata": {},
   "outputs": [],
   "source": [
    "# now select the rows i.e. where the outlides are. Note this code extracts the\n",
    "# rows in the arrays where the outliers might be. From the overlap of the two\n",
    "# arrays we can find the outliers.\n",
    "t, b, l, r = 0, -1, 0, -1\n",
    "outlier_points = np.array([t, b, l, r])\n",
    "rows_of_interest = np.argwhere((row > outlier_points[0]) & (row < outlier_points[1]))\n",
    "cols_of_interest = np.argwhere((col > outlier_points[2]) & (col < outlier_points[3]))"
   ]
  },
  {
   "cell_type": "code",
   "execution_count": 30,
   "id": "e474d99d",
   "metadata": {},
   "outputs": [
    {
     "data": {
      "image/png": "[encoded data removed]",
      "text/plain": [
       "<Figure size 432x432 with 1 Axes>"
      ]
     },
     "metadata": {
      "needs_background": "light"
     },
     "output_type": "display_data"
    }
   ],
   "source": [
    "def arr_to_set(arr):\n",
    "    \"\"\"Convert an array to a set.\"\"\"\n",
    "    arr = arr.ravel()\n",
    "    set_ = set(arr)\n",
    "    return set_\n",
    "\n",
    "\n",
    "# convert the arrays to sets\n",
    "# rows_of_interest = arr_to_set(rows_of_interest)\n",
    "# cols_of_interest = arr_to_set(cols_of_interest)\n",
    "\n",
    "# look at the interesection of the sets. This tells me what row the outlier is\n",
    "# in.\n",
    "# rows_to_delete = list(rows_of_interest.intersection(cols_of_interest))\n",
    "\n",
    "# now delete the row of the image array where the outlier is\n",
    "# front = np.delete(front, rows_to_delete, axis=0)\n",
    "\n",
    "# plot the outline\n",
    "# plot_outline(cropped, front)\n",
    "plot_outline(img, front)"
   ]
  },
  {
   "cell_type": "markdown",
   "id": "b1c9034c",
   "metadata": {},
   "source": [
    "Now it's much better. "
   ]
  },
  {
   "cell_type": "markdown",
   "id": "5cbce374",
   "metadata": {},
   "source": [
    "### Now that we have extracted an outline from the image we need to interpolate the outline so we can do curvature analysis.\n",
    "\n",
    "In order to fit a spline we need to create a parameter to fit on. We will use the distance as our parameter."
   ]
  },
  {
   "cell_type": "code",
   "execution_count": 31,
   "id": "e0aa0d7d",
   "metadata": {},
   "outputs": [],
   "source": [
    "def get_distance_parameter(outline, px_per_cm=36.4):\n",
    "    \"\"\"\n",
    "    Use the outline to construct a distance parameter.\n",
    "\n",
    "    Parameters\n",
    "    ----------\n",
    "    outline : np.ndarray\n",
    "        Outline shape (front, back, or center) of the snake.\n",
    "    px_per_cm : float\n",
    "        Magic number which set the distance scale (in cm) in the image. This\n",
    "        number comes from knowing a physical distance in the image and seeing\n",
    "        how many pixels that distance takes up.\n",
    "\n",
    "    Returns\n",
    "    ------\n",
    "    distance : np.ndarray\n",
    "        This array contains the distance between the outline points (in cm).\n",
    "    \"\"\"\n",
    "    distance = np.cumsum(np.sqrt(np.sum(np.diff(outline, axis=0) ** 2, axis=1)))\n",
    "    distance = np.insert(distance, 0, 0)\n",
    "    distance = distance / px_per_cm\n",
    "    return distance\n",
    "\n",
    "\n",
    "def get_interp_points(distance, num_points: int = 15):\n",
    "    \"\"\"Get the points I will do the interpolation on.\"\"\"\n",
    "    interp_points = np.linspace(distance.min(), distance.max(), num_points)\n",
    "    return interp_points\n",
    "\n",
    "\n",
    "def get_interpolation(distance: np.ndarray, outline: np.ndarray, num_points: int = 15):\n",
    "    \"\"\"Get the interpolation of the line.\"\"\"\n",
    "    interpolator = interp1d(distance, outline, kind=\"cubic\", axis=0)\n",
    "    interp_points = get_interp_points(distance, num_points)\n",
    "    interpolated_line = interpolator(interp_points)\n",
    "    return interpolated_line, interpolator\n",
    "\n",
    "\n",
    "def plot_interpolated_line(\n",
    "    cropped: np.ndarray,\n",
    "    outline: np.ndarray,\n",
    "    interpolated_line: np.ndarray,\n",
    "    size: int = 8,\n",
    "):\n",
    "    \"\"\"\n",
    "    Plot the interpolation line over top of the snake image.\n",
    "\n",
    "    Paramters\n",
    "    ---------\n",
    "    cropped : np.ndarray\n",
    "        Cropped image of the snake.\n",
    "    outline : np.ndarray\n",
    "        A 2D array with the outline (front, back, or center) outline of the\n",
    "        snake. The columns correspond to x and y pixel values.\n",
    "    interpolated_line : np.ndarray\n",
    "        A 2D array with the interpolation x and y pixel values for the outline.\n",
    "\n",
    "    Returns\n",
    "    -------\n",
    "    \"\"\"\n",
    "    plt.figure(figsize=(size, size))\n",
    "    plt.imshow(cropped, cmap=\"gray\")\n",
    "    plt.scatter(outline[:, 0], outline[:, 1], s=5, color=\"red\")\n",
    "    plt.plot(interpolated_line[:, 0], interpolated_line[:, 1], linewidth=5)\n",
    "    plt.title(\"Overlay of interpolated line\")\n",
    "    plt.show()"
   ]
  },
  {
   "cell_type": "code",
   "execution_count": 32,
   "id": "26159543",
   "metadata": {},
   "outputs": [],
   "source": [
    "distance = get_distance_parameter(outline=front)\n",
    "interpolated_line, interpolator = get_interpolation(distance, front, num_points=15)"
   ]
  },
  {
   "cell_type": "code",
   "execution_count": 33,
   "id": "f7693374",
   "metadata": {},
   "outputs": [
    {
     "data": {
      "image/png": "[encoded data removed]",
      "text/plain": [
       "<Figure size 576x576 with 1 Axes>"
      ]
     },
     "metadata": {
      "needs_background": "light"
     },
     "output_type": "display_data"
    }
   ],
   "source": [
    "# plot_interpolated_line(cropped, front, interpolated_line)\n",
    "plot_interpolated_line(img, front, interpolated_line)"
   ]
  },
  {
   "cell_type": "markdown",
   "id": "ab737e5d",
   "metadata": {},
   "source": [
    "### Now that we have an outline of the snake extracted and we have a fit to the outline, we want to extract the curvature profile and plot that. \n",
    "\n",
    "We don't have an arc length parametrization because the magnitude of the tangent vector is not one. Instead we have a proper parameterization because the derivatives $\\frac{dx}{dt}$ and $\\frac{dy}{dt}$ exist everywhere and are not zero simultatneously. To compute curvature we can then use the [following formula](https://en.wikipedia.org/wiki/Curvature)\n",
    "\n",
    "\\begin{equation}\n",
    "|\\kappa| = \\frac{|x'y''-x''y'|}{(x'^2+y'^2)^{\\frac{3}{2}}}\n",
    "\\end{equation}"
   ]
  },
  {
   "cell_type": "code",
   "execution_count": 34,
   "id": "cc57de12",
   "metadata": {},
   "outputs": [],
   "source": [
    "def check_parameterization(\n",
    "    interpolated_line: np.ndarray, interpolation_points: np.ndarray\n",
    ") -> bool:\n",
    "    \"\"\"\n",
    "    Check that the parameterization is \"proper.\"\n",
    "\n",
    "    A proper parameterization means the derivatives dx/dt and dy/dt exist\n",
    "    everywhere and are not zero simultaneously.\n",
    "\n",
    "    Parameters\n",
    "    ----------\n",
    "    interpolated_line : np.ndarray\n",
    "        A 2D array containing the x, y pixel values of the interpolation line.\n",
    "    interpolation_points : np.ndarray\n",
    "        Points at which the interpolation took place. These are values of the\n",
    "        parameter we interpolate from.\n",
    "\n",
    "    Returns\n",
    "    -------\n",
    "    proper : bool\n",
    "        True if the parameterization is \"proper\" as described above. False otherwise.\n",
    "    \"\"\"\n",
    "    x = interpolated_line[:, 0]\n",
    "    y = interpolated_line[:, 1]\n",
    "    t = interpolation_points\n",
    "    spacing = np.diff(t)[0]\n",
    "    dx_dt = np.gradient(x, spacing)\n",
    "    dy_dt = np.gradient(y, spacing)\n",
    "    deriv_mag = np.sqrt(dx_dt**2 + dy_dt**2)\n",
    "    no_nans_x = np.all(~np.isnan(dx_dt))\n",
    "    no_nans_y = np.all(~np.isnan(dy_dt))\n",
    "    no_nans = no_nans_x and no_nans_y\n",
    "    non_zero = np.all(deriv_mag > 0)\n",
    "    proper = no_nans and non_zero\n",
    "    return proper\n",
    "\n",
    "\n",
    "def compute_plot_curvature(\n",
    "    interpolated_line: np.ndarray,\n",
    "    interpolation_points: np.ndarray,\n",
    "    px_per_cm: float = 36.4,\n",
    ") -> np.ndarray:\n",
    "    \"\"\"\n",
    "    Compute and plot the curvature.\n",
    "\n",
    "    We compute and plot the curvature of the fit line after some smoothing.\n",
    "\n",
    "    Parameters\n",
    "    ----------\n",
    "    interpolated_line : np.ndarray\n",
    "        A 2D array containing the x, y pixel values of the interpolation.\n",
    "    interpolation_points : np.ndarray\n",
    "        Array containing the points we will do the interpolation at.\n",
    "\n",
    "    Returns\n",
    "    -------\n",
    "    smooth_kappa : np.ndarray\n",
    "        Array containing the curvature at several points along the snake.\n",
    "    \"\"\"\n",
    "    x = interpolated_line[:, 0] / px_per_cm\n",
    "    y = interpolated_line[:, 1] / px_per_cm\n",
    "    t = interpolation_points\n",
    "    spacing = np.diff(t)[0]\n",
    "    dx_dt = np.gradient(x, spacing)\n",
    "    dy_dt = np.gradient(y, spacing)\n",
    "    d2x_dt = np.gradient(dx_dt, spacing)\n",
    "    d2y_dt = np.gradient(dy_dt, spacing)\n",
    "    kappa = np.abs(dx_dt * d2y_dt - d2x_dt * dy_dt) / (\n",
    "        np.power(dx_dt**2 + dy_dt**2, 3 / 2)\n",
    "    )\n",
    "    smooth_interp = interp1d(interpolation_points, kappa, kind=\"cubic\")\n",
    "    smooth_points = np.linspace(\n",
    "        interpolation_points.min(), interpolation_points.max(), 100\n",
    "    )\n",
    "    smooth_kappa = smooth_interp(smooth_points)\n",
    "    # plt.plot(interpolation_points, kappa, label=\"regular\")\n",
    "    plt.plot(smooth_points, smooth_kappa)\n",
    "    plt.xlabel(\"Distance along snake (cm)\", fontsize=15)\n",
    "    plt.ylabel(r\"Curvature $\\kappa$ ($cm^{-1}$)\", fontsize=15)\n",
    "    # plt.legend()\n",
    "    plt.title(\"Curvature along the snake.\")\n",
    "    plt.show()\n",
    "    return smooth_kappa, smooth_points"
   ]
  },
  {
   "cell_type": "code",
   "execution_count": 35,
   "id": "54f6f6d2",
   "metadata": {},
   "outputs": [
    {
     "name": "stdout",
     "output_type": "stream",
     "text": [
      "The parameterization is proper: True\n"
     ]
    }
   ],
   "source": [
    "interpolation_points = get_interp_points(distance=distance, num_points=15)\n",
    "proper = check_parameterization(\n",
    "    interpolated_line=interpolated_line, interpolation_points=interpolation_points\n",
    ")\n",
    "print(f\"The parameterization is proper: {proper}\")"
   ]
  },
  {
   "cell_type": "code",
   "execution_count": 36,
   "id": "8e4cbe3a",
   "metadata": {},
   "outputs": [
    {
     "data": {
      "image/png": "[encoded data removed]",
      "text/plain": [
       "<Figure size 432x288 with 1 Axes>"
      ]
     },
     "metadata": {
      "needs_background": "light"
     },
     "output_type": "display_data"
    },
    {
     "data": {
      "image/png": "[encoded data removed]",
      "text/plain": [
       "<Figure size 432x432 with 1 Axes>"
      ]
     },
     "metadata": {
      "needs_background": "light"
     },
     "output_type": "display_data"
    }
   ],
   "source": [
    "smooth_kappa, smooth_points = compute_plot_curvature(\n",
    "    interpolated_line, interpolation_points\n",
    ")\n",
    "plot_interpolated_line(\n",
    "    cropped=img, outline=front, interpolated_line=interpolated_line, size=6\n",
    ")"
   ]
  },
  {
   "cell_type": "markdown",
   "id": "aed0433a",
   "metadata": {},
   "source": [
    "### Now we want to save the results."
   ]
  },
  {
   "cell_type": "code",
   "execution_count": null,
   "id": "5c8389d0",
   "metadata": {},
   "outputs": [],
   "source": [
    "# save cropped image, interpolated line, interpolation points, curvature, and crop points!\n",
    "np.savez(\n",
    "    save_path,\n",
    "    cropped,\n",
    "    interpolated_line,\n",
    "    smooth_points,\n",
    "    smooth_kappa,\n",
    "    crop_points,\n",
    "    outlier_points,\n",
    ")"
   ]
  },
  {
   "cell_type": "code",
   "execution_count": null,
   "id": "e9c754a3",
   "metadata": {},
   "outputs": [],
   "source": []
  }
 ],
 "metadata": {
  "kernelspec": {
   "display_name": "deeplabcut",
   "language": "python",
   "name": "deeplabcut"
  },
  "language_info": {
   "codemirror_mode": {
    "name": "ipython",
    "version": 3
   },
   "file_extension": ".py",
   "mimetype": "text/x-python",
   "name": "python",
   "nbconvert_exporter": "python",
   "pygments_lexer": "ipython3",
   "version": "3.8.13"
  }
 },
 "nbformat": 4,
 "nbformat_minor": 5
}
