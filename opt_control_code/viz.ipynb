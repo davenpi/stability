{
 "cells": [
  {
   "cell_type": "code",
   "execution_count": 1,
   "id": "a786e512",
   "metadata": {},
   "outputs": [],
   "source": [
    "import numpy as np\n",
    "import matplotlib.pyplot as plt"
   ]
  },
  {
   "cell_type": "code",
   "execution_count": null,
   "id": "6eea1768",
   "metadata": {},
   "outputs": [],
   "source": [
    "x_opt = np.load(\"active_work_N80_yf0.9_xf_0.1/x_opt.npy\")\n",
    "u_opt = np.load(\"active_work_N80_yf0.9_xf_0.1/u_opt.npy\")"
   ]
  },
  {
   "cell_type": "code",
   "execution_count": null,
   "id": "98a69234",
   "metadata": {},
   "outputs": [],
   "source": [
    "x_f = 0.1\n",
    "y_f = 0.9\n",
    "plt.figure(figsize=(8, 8))\n",
    "fig, ax = plt.subplots()\n",
    "ax.plot(-x_opt[1], x_opt[2])\n",
    "ax.annotate(f\"({-x_f}, {y_f})\", (-x_f + 0.025, y_f))\n",
    "ax.scatter([-0.1], [0.9], color=\"r\")\n",
    "plt.title(\"Snake shape\")\n",
    "plt.axis(\"scaled\")\n",
    "plt.savefig(\"snake_shape.png\")\n",
    "plt.show()"
   ]
  },
  {
   "cell_type": "code",
   "execution_count": null,
   "id": "649bd290",
   "metadata": {},
   "outputs": [],
   "source": [
    "T = 1\n",
    "N = 80\n",
    "tgrid = np.linspace(0, T, N + 1)\n",
    "# plt.figure(figsize=(12,12))\n",
    "# fig, ax = plt.subplots(nrows=2, ncols=2, sharex=True)\n",
    "# ax[0, 0].plot(tgrid, np.append(np.nan, u_opt[0]))\n",
    "# ax[0, 0].set_title(\"control\")\n",
    "# ax[0, 1].plot(tgrid, np.append(np.nan, u_opt[0]))\n",
    "# ax[0, 1].plot(tgrid, x_opt[4])\n",
    "# ax[0, 1].set_title(\"Control and curvature\")\n",
    "# ax[1, 0].plot(tgrid, x_opt[3])\n",
    "# ax[1, 0].set_title(\"Snake angle\")\n",
    "# ax[1, 1].plot(tgrid, x_opt[5])\n",
    "# ax[1, 1].set_title(\"Active moment\")\n",
    "# fig.tight_layout()\n",
    "# plt.show()"
   ]
  },
  {
   "cell_type": "code",
   "execution_count": null,
   "id": "3571c82d",
   "metadata": {},
   "outputs": [],
   "source": [
    "plt.plot(tgrid, x_opt[5])"
   ]
  },
  {
   "cell_type": "code",
   "execution_count": null,
   "id": "0eedc5b2",
   "metadata": {},
   "outputs": [],
   "source": [
    "fig, ax = plt.subplots()\n",
    "ax2 = ax.twinx()\n",
    "ax.step(tgrid, np.append(np.nan, u_opt[0]), color=\"black\")\n",
    "ax2.plot(tgrid, x_opt[4], color=\"blue\")\n",
    "ax.set_ylabel(\"Control\", color=\"black\", fontsize=16)\n",
    "ax.set_yticks([-10, 0, 10])\n",
    "ax.set_yticklabels([r\"-$u_{max}$\", \"0\", r\"$u_{max}$\"])\n",
    "ax2.set_ylabel(\"Curvature\", color=\"blue\", fontsize=16)\n",
    "ax.set_xlabel(\"s\")\n",
    "plt.title(\"Control and curvature along the snake\", fontsize=20)\n",
    "plt.savefig(\"control_and_curvature.png\")\n",
    "plt.show()"
   ]
  },
  {
   "cell_type": "code",
   "execution_count": null,
   "id": "336c5171",
   "metadata": {},
   "outputs": [],
   "source": [
    "fig, ax = plt.subplots()\n",
    "ax2 = ax.twinx()\n",
    "ax.step(tgrid, np.append(np.nan, u_opt[0]), color=\"black\")\n",
    "ax2.plot(tgrid, x_opt[5], color=\"blue\")\n",
    "ax.set_ylabel(\"Control\", color=\"black\", fontsize=16)\n",
    "ax.set_yticks([-10, 0, 10])\n",
    "ax.set_yticklabels([r\"-$u_{max}$\", \"0\", r\"$u_{max}$\"])\n",
    "ax2.set_ylabel(\"Active moment\", color=\"blue\", fontsize=16)\n",
    "ax.set_xlabel(\"s\")\n",
    "plt.title(\"Control and active moment along the snake\", fontsize=20)\n",
    "# plt.savefig(\"control_and_curvature.png\")\n",
    "plt.show()"
   ]
  },
  {
   "cell_type": "code",
   "execution_count": null,
   "id": "a7d5ecb8",
   "metadata": {},
   "outputs": [],
   "source": [
    "fig, ax = plt.subplots()\n",
    "ax2 = ax.twinx()\n",
    "ax.plot(tgrid, x_opt[3], color=\"black\")\n",
    "ax.axhline(y=np.pi / 2)\n",
    "ax2.plot(tgrid, x_opt[4], color=\"blue\")\n",
    "ax.set_ylabel(r\"$\\theta$\", color=\"black\", fontsize=16)\n",
    "ax.set_yticks([0, np.pi / 4, np.pi / 2])\n",
    "ax.set_yticklabels([\"0\", r\"$\\pi/4$\", r\"$\\pi/2$\"])\n",
    "ax2.set_ylabel(\"Curvature\", color=\"blue\", fontsize=16)\n",
    "ax.set_xlabel(\"s\")\n",
    "plt.title(\"Angle and curvature\", fontsize=20)\n",
    "plt.savefig(\"angle_and_curvature.png\")\n",
    "plt.show()"
   ]
  },
  {
   "cell_type": "code",
   "execution_count": null,
   "id": "194376de",
   "metadata": {},
   "outputs": [],
   "source": [
    "plt.plot(tgrid, x_opt[4])"
   ]
  },
  {
   "cell_type": "code",
   "execution_count": null,
   "id": "a5bd768a",
   "metadata": {},
   "outputs": [],
   "source": []
  }
 ],
 "metadata": {
  "kernelspec": {
   "display_name": "gliding",
   "language": "python",
   "name": "gliding"
  },
  "language_info": {
   "codemirror_mode": {
    "name": "ipython",
    "version": 3
   },
   "file_extension": ".py",
   "mimetype": "text/x-python",
   "name": "python",
   "nbconvert_exporter": "python",
   "pygments_lexer": "ipython3",
   "version": "3.7.4"
  }
 },
 "nbformat": 4,
 "nbformat_minor": 5
}
