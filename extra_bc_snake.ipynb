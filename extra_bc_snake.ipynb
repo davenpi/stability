{
 "cells": [
  {
   "cell_type": "code",
   "execution_count": 1,
   "id": "e67efa1f-1714-4e53-aa65-40415ea7d7ed",
   "metadata": {},
   "outputs": [],
   "source": [
    "import math\n",
    "import numpy as np\n",
    "import scipy.integrate as si\n",
    "import matplotlib.pyplot as plt\n",
    "from scipy.stats import linregress"
   ]
  },
  {
   "cell_type": "code",
   "execution_count": 90,
   "id": "b33fd893-863b-4231-b757-12e7072deb4b",
   "metadata": {},
   "outputs": [],
   "source": [
    "class SnakeExtra:\n",
    "    def __init__(self, B, c, l, rho, mesh_points=50):\n",
    "        self.g = -9.8\n",
    "        self.B = B\n",
    "        self.c = c\n",
    "        self.rho = rho\n",
    "        self.lg = (-self.B / (self.rho * self.g)) ** (1 / 3)\n",
    "        self.l = l\n",
    "        self.x = np.linspace(0, 1, mesh_points)\n",
    "        self.y = np.zeros((2, self.x.size))\n",
    "        self.make_initial_guesses()\n",
    "\n",
    "    def make_initial_guesses(self):\n",
    "        \"\"\"\n",
    "        Initial parameter guesses for usual boundary conditions.\n",
    "        \"\"\"\n",
    "        dy_ds = np.exp(-((self.x - 0.25) ** 2) / 0.010)\n",
    "        y_guess = (\n",
    "            np.pi / 2 * si.cumtrapz(dy_ds, self.x, initial=0) / si.trapz(dy_ds, self.x)\n",
    "        )\n",
    "        self.y[0, :] = y_guess  # np.pi/2*self.x**2\n",
    "        # self.y[0, 0] = 0\n",
    "        # self.y[0, -1] = np.pi / 2\n",
    "        self.y[1, :] = dy_ds  # np.exp(-(self.x-0.2)**2/.010)\n",
    "        # self.y[1, 0] = 0\n",
    "        # self.y[1, -1] = 0\n",
    "\n",
    "    def fun_k(self, x, y, p):\n",
    "        l = p[0]\n",
    "        c = p[1]\n",
    "        dy0_dx = y[1]\n",
    "        dy1_dx = (\n",
    "            self.B * (-l / self.lg) ** 3 * x * np.cos(y[0]) / (self.B + c)\n",
    "        )  # need -g\n",
    "        dy_dx = np.vstack((dy0_dx, dy1_dx))\n",
    "        return dy_dx\n",
    "\n",
    "    def bc(self, ya, yb, p):\n",
    "        res1 = ya[0]\n",
    "        res2 = yb[0] - np.pi / 2\n",
    "        res3 = yb[1]\n",
    "        res4 = yb[0]\n",
    "        residuals = np.array([res1, res2, res3, res4])\n",
    "        return residuals\n",
    "\n",
    "    def solve(self):\n",
    "        self.sol = si.solve_bvp(\n",
    "            fun=self.fun_k, bc=self.bc, x=self.x, y=self.y, p=[self.l, self.c]\n",
    "        )\n",
    "        self.l = self.sol.p[0]\n",
    "        self.c = self.sol.p[1]\n",
    "        self.x_pos = si.cumtrapz(self.l * np.cos(self.sol.y[0]), self.sol.x, initial=0)\n",
    "        self.y_pos = si.cumtrapz(self.l * np.sin(self.sol.y[0]), self.sol.x, initial=0)\n",
    "\n",
    "    def cost(self, alpha=0.5):\n",
    "        height_term = self.y_pos[-1] / self.l\n",
    "        self.height_cost = -alpha * height_term\n",
    "        work_term = self.c / (2 * self.B) * si.trapz(self.sol.y[1] ** 2, self.sol.x)\n",
    "        self.work_cost = (1 - alpha) * work_term\n",
    "        cost = self.height_cost + self.work_cost\n",
    "        return cost"
   ]
  },
  {
   "cell_type": "code",
   "execution_count": 91,
   "id": "5a01917a-e483-41c0-9e3a-18f73d084a25",
   "metadata": {},
   "outputs": [],
   "source": [
    "snake = SnakeExtra(B=1, c=1, l=1, rho=1)"
   ]
  },
  {
   "cell_type": "code",
   "execution_count": 92,
   "id": "34ca6836-3260-49cd-8f09-2cb869ec9730",
   "metadata": {},
   "outputs": [],
   "source": [
    "snake.solve()"
   ]
  },
  {
   "cell_type": "code",
   "execution_count": 93,
   "id": "3fd334e4-164d-4b80-b9ef-35b2dc252448",
   "metadata": {},
   "outputs": [
    {
     "data": {
      "text/plain": [
       "'A singular Jacobian encountered when solving the collocation system.'"
      ]
     },
     "execution_count": 93,
     "metadata": {},
     "output_type": "execute_result"
    }
   ],
   "source": [
    "snake.sol.message"
   ]
  },
  {
   "cell_type": "code",
   "execution_count": 94,
   "id": "367100d2-2411-48b0-9c61-9945e3ff81ca",
   "metadata": {},
   "outputs": [
    {
     "data": {
      "image/png": "[encoded data removed]",
      "text/plain": [
       "<Figure size 720x360 with 2 Axes>"
      ]
     },
     "metadata": {
      "needs_background": "light"
     },
     "output_type": "display_data"
    }
   ],
   "source": [
    "fig, ax = plt.subplots(1, 2, figsize=(10, 5))\n",
    "\n",
    "fig.suptitle(\"Initial guess for y\", fontsize=18)\n",
    "\n",
    "ax[0].plot(snake.x, snake.y[0])\n",
    "# ax[0].plot(\n",
    "ax[0].set_title(r\"$y_1=\\theta(\\tilde{s})$\", fontsize=15)\n",
    "\n",
    "ax[1].plot(snake.x, snake.y[1])\n",
    "# ax[1].plot(snake.x, np.exp(-(snake.x-0.2)**2/.010))\n",
    "ax[1].set_title(r\"$y_2=\\frac{d\\theta}{d\\tilde{s}}$\", fontsize=15)\n",
    "\n",
    "plt.show()"
   ]
  },
  {
   "cell_type": "code",
   "execution_count": null,
   "id": "bbce5be9-ad85-433b-bfa2-b6e695089f23",
   "metadata": {},
   "outputs": [],
   "source": []
  },
  {
   "cell_type": "code",
   "execution_count": null,
   "id": "68bf2ca8-defd-4f3a-acf7-1d8be971250c",
   "metadata": {},
   "outputs": [],
   "source": []
  }
 ],
 "metadata": {
  "kernelspec": {
   "display_name": "chameleon",
   "language": "python",
   "name": "chameleon"
  },
  "language_info": {
   "codemirror_mode": {
    "name": "ipython",
    "version": 3
   },
   "file_extension": ".py",
   "mimetype": "text/x-python",
   "name": "python",
   "nbconvert_exporter": "python",
   "pygments_lexer": "ipython3",
   "version": "3.7.4"
  }
 },
 "nbformat": 4,
 "nbformat_minor": 5
}
