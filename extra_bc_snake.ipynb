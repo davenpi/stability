{
 "cells": [
  {
   "cell_type": "code",
   "execution_count": 1,
   "id": "e67efa1f-1714-4e53-aa65-40415ea7d7ed",
   "metadata": {},
   "outputs": [],
   "source": [
    "import math\n",
    "import numpy as np\n",
    "import scipy.integrate as si\n",
    "import matplotlib.pyplot as plt\n",
    "from scipy.stats import linregress"
   ]
  },
  {
   "cell_type": "code",
   "execution_count": 2,
   "id": "b33fd893-863b-4231-b757-12e7072deb4b",
   "metadata": {},
   "outputs": [],
   "source": [
    "class SnakeExtra:\n",
    "    def __init__(self, B, c, l, rho, mesh_points=50):\n",
    "        self.g = -9.8\n",
    "        self.B = B\n",
    "        self.c = c\n",
    "        self.rho = rho\n",
    "        self.lg = (-self.B / (self.rho * self.g)) ** (1 / 3)\n",
    "        self.l = l\n",
    "        self.x = np.linspace(0, 1, mesh_points)\n",
    "        self.y = np.zeros((2, self.x.size))\n",
    "        self.make_initial_guesses()\n",
    "\n",
    "    def make_initial_guesses(self):\n",
    "        \"\"\"\n",
    "        Initial parameter guesses for usual boundary conditions.\n",
    "        \"\"\"\n",
    "        self.y[0, 0] = 0\n",
    "        self.y[0, -1] = np.pi / 2\n",
    "        self.y[1, 0] = 0\n",
    "        self.y[1, -1] = 0\n",
    "\n",
    "    def fun_k(self, x, y, p):\n",
    "        l = p[0]\n",
    "        c = p[1]\n",
    "        dy0_dx = y[1]\n",
    "        dy1_dx = (\n",
    "            self.B * (-l / self.lg) ** 3 * x * np.cos(y[0]) / (self.B + c)\n",
    "        )  # need -g\n",
    "        dy_dx = np.vstack((dy0_dx, dy1_dx))\n",
    "        return dy_dx\n",
    "\n",
    "    def bc(self, ya, yb, p):\n",
    "        res1 = ya[0]\n",
    "        res2 = yb[0] - np.pi / 2\n",
    "        res3 = yb[1]\n",
    "        res4 = yb[0]\n",
    "        residuals = np.array([res1, res2, res3, res4])\n",
    "        return residuals\n",
    "\n",
    "    def solve(self):\n",
    "        self.sol = si.solve_bvp(\n",
    "            fun=self.fun_k, bc=self.bc, x=self.x, y=self.y, p=[self.l, self.c]\n",
    "        )\n",
    "        self.l = self.sol.p[0]\n",
    "        self.c = self.sol.p[1]\n",
    "        self.x_pos = si.cumtrapz(self.l * np.cos(self.sol.y[0]), self.sol.x, initial=0)\n",
    "        self.y_pos = si.cumtrapz(self.l * np.sin(self.sol.y[0]), self.sol.x, initial=0)\n",
    "\n",
    "    def cost(self, alpha=0.5):\n",
    "        height_term = self.y_pos[-1] / self.l\n",
    "        self.height_cost = -alpha * height_term\n",
    "        work_term = self.c / (2 * self.B) * si.trapz(self.sol.y[1] ** 2, self.sol.x)\n",
    "        self.work_cost = (1 - alpha) * work_term\n",
    "        cost = self.height_cost + self.work_cost\n",
    "        return cost"
   ]
  },
  {
   "cell_type": "code",
   "execution_count": null,
   "id": "5a01917a-e483-41c0-9e3a-18f73d084a25",
   "metadata": {},
   "outputs": [],
   "source": []
  }
 ],
 "metadata": {
  "kernelspec": {
   "display_name": "chameleon",
   "language": "python",
   "name": "chameleon"
  },
  "language_info": {
   "codemirror_mode": {
    "name": "ipython",
    "version": 3
   },
   "file_extension": ".py",
   "mimetype": "text/x-python",
   "name": "python",
   "nbconvert_exporter": "python",
   "pygments_lexer": "ipython3",
   "version": "3.7.4"
  }
 },
 "nbformat": 4,
 "nbformat_minor": 5
}
