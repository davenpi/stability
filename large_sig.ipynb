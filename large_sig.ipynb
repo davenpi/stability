{
 "cells": [
  {
   "cell_type": "code",
   "execution_count": 1,
   "id": "bafde559-255d-4b81-ad12-88659ff0bfaf",
   "metadata": {},
   "outputs": [],
   "source": [
    "import math\n",
    "import numpy as np\n",
    "import scipy.integrate as si\n",
    "import matplotlib.pyplot as plt\n",
    "from scipy.stats import linregress"
   ]
  },
  {
   "cell_type": "code",
   "execution_count": 2,
   "id": "68b177a1-d38b-47af-afac-aabd40152c6d",
   "metadata": {},
   "outputs": [],
   "source": [
    "class Snake:\n",
    "    \"\"\"\n",
    "    Should add in plotting and boundary condition specification methods.\n",
    "    \"\"\"\n",
    "\n",
    "    def __init__(self, B=1, c=1, l=1, sigma=0.1, rho=1, mesh_points=50):\n",
    "        self.g = -9.8\n",
    "        self.B = B\n",
    "        self.c = c\n",
    "        self.bt = self.B / self.c\n",
    "        self.sigma = sigma\n",
    "        self.rho = rho\n",
    "        self.lg = (-self.B / (self.rho * self.g)) ** (1 / 3)\n",
    "        self.l = l\n",
    "        self.x = np.linspace(0, 1, mesh_points)\n",
    "        self.y = np.zeros((2, self.x.size))\n",
    "        self.make_initial_guesses()\n",
    "\n",
    "    def make_initial_guesses(self):\n",
    "        \"\"\"\n",
    "        Initial parameter guesses for usual boundary conditions.\n",
    "        \"\"\"\n",
    "        self.y[0, 0] = np.pi/2\n",
    "        self.y[0, -1] = 0\n",
    "        self.y[1, 0] = 0\n",
    "\n",
    "    def fun_k(self, x, y, p):\n",
    "        l = p[0]\n",
    "        dy0_dx = y[1]\n",
    "        dy1_dx = -(l/self.lg)**3*x*np.cos(y[0])\n",
    "        dy_dx = np.vstack((dy0_dx, dy1_dx))\n",
    "        return dy_dx\n",
    "\n",
    "    def bc(self, ya, yb, p):\n",
    "        res1 = ya[0]-np.pi/2\n",
    "        res2 = yb[0]\n",
    "        res3 = ya[1]\n",
    "        residuals = np.array([res1, res2, res3])\n",
    "        return residuals\n",
    "\n",
    "    def solve(self, verbose=0):\n",
    "        self.sol = si.solve_bvp(\n",
    "            fun=self.fun_k, bc=self.bc, x=self.x, y=self.y, p=[self.l], verbose=verbose\n",
    "        )\n",
    "        if snake.sol.status != 0:\n",
    "            print(\"The answer didn't converge!\")\n",
    "        self.l = self.sol.p[0]\n",
    "        self.x_pos = si.cumtrapz(self.l * np.cos(self.sol.y[0]), self.sol.x, initial=0)\n",
    "        self.x_pos -= self.x_pos[-1]\n",
    "        self.y_pos = si.cumtrapz(self.l * np.sin(self.sol.y[0]), self.sol.x, initial=0)\n",
    "        self.y_pos -= self.y_pos[-1]\n",
    "\n",
    "    def cost(self, alpha=0.5):\n",
    "        height_term = self.y_pos[0] / self.l\n",
    "        self.height_cost = -alpha * height_term\n",
    "        work_term = self.c / (2 * self.B) * si.trapz(self.sol.y[1] ** 2, self.sol.x)\n",
    "        self.work_cost = (1 - alpha) * work_term\n",
    "        cost = self.height_cost + self.work_cost\n",
    "        return cost"
   ]
  },
  {
   "cell_type": "code",
   "execution_count": 9,
   "id": "984db57e-a26c-4f3a-89f3-3654195dcaad",
   "metadata": {},
   "outputs": [
    {
     "name": "stdout",
     "output_type": "stream",
     "text": [
      "   Iteration    Max residual  Max BC residual  Total nodes    Nodes added  \n",
      "       1          4.22e-01       3.23e-17          50             53       \n",
      "       2          1.59e-01       6.51e-19          103            81       \n",
      "       3          9.02e-02       2.39e-18          184            99       \n",
      "       4          4.88e-03       7.59e-19          283            72       \n",
      "       5          1.05e-04       1.24e-19          355             0       \n",
      "Solved in 5 iterations, number of nodes 355. \n",
      "Maximum relative residual: 1.05e-04 \n",
      "Maximum boundary residual: 1.24e-19\n"
     ]
    }
   ],
   "source": [
    "snake = Snake(c=1000)\n",
    "snake.solve(verbose=2)"
   ]
  },
  {
   "cell_type": "code",
   "execution_count": 10,
   "id": "7bb1ce9e-f53a-40dc-9bd3-ffc8a7606922",
   "metadata": {},
   "outputs": [
    {
     "data": {
      "image/png": "[encoded data removed]",
      "text/plain": [
       "<Figure size 864x360 with 2 Axes>"
      ]
     },
     "metadata": {
      "needs_background": "light"
     },
     "output_type": "display_data"
    }
   ],
   "source": [
    "fig, ax = plt.subplots(1, 2, figsize=(12, 5))\n",
    "\n",
    "ax[0].plot(snake.sol.x, snake.sol.y[0])\n",
    "ax[0].set_xlabel(r\"$\\tilde{s}$\", fontsize=15)\n",
    "ax[0].set_ylabel(r\"$\\theta$\", fontsize=15)\n",
    "ax[0].set_title(r\"$\\theta$ vs $\\tilde{s}$\", fontsize=15)\n",
    "\n",
    "ax[1].plot(snake.sol.x, snake.sol.y[1])\n",
    "ax[1].set_xlabel(r\"$\\tilde{s}$\", fontsize=15)\n",
    "ax[1].set_ylabel(r\"$\\frac{d\\theta}{d\\tilde{s}}$\", fontsize=15)\n",
    "ax[1].set_title(r\"$\\frac{d\\theta}{d\\tilde{s}}$ vs $\\tilde{s}$\", fontsize=15)\n",
    "\n",
    "plt.show()"
   ]
  },
  {
   "cell_type": "code",
   "execution_count": 11,
   "id": "3263cb07-4a1e-4e33-8b2c-40996985c8a4",
   "metadata": {},
   "outputs": [
    {
     "data": {
      "image/png": "[encoded data removed]",
      "text/plain": [
       "<Figure size 576x576 with 1 Axes>"
      ]
     },
     "metadata": {
      "needs_background": "light"
     },
     "output_type": "display_data"
    }
   ],
   "source": [
    "plt.figure(figsize=(8, 8))\n",
    "plt.plot(-snake.x_pos, -snake.y_pos)\n",
    "plt.xlabel(\"x\", fontsize=15)\n",
    "plt.ylabel(\"y\", fontsize=15)\n",
    "plt.title(\"Snake shape\", fontsize=15)\n",
    "plt.show()"
   ]
  },
  {
   "cell_type": "code",
   "execution_count": null,
   "id": "ea929487-9b44-4ce2-ba18-5177243e3fc1",
   "metadata": {},
   "outputs": [],
   "source": []
  },
  {
   "cell_type": "code",
   "execution_count": null,
   "id": "bcbf3a60-7fee-41e7-bce4-405997875e14",
   "metadata": {},
   "outputs": [],
   "source": []
  }
 ],
 "metadata": {
  "kernelspec": {
   "display_name": "chameleon",
   "language": "python",
   "name": "chameleon"
  },
  "language_info": {
   "codemirror_mode": {
    "name": "ipython",
    "version": 3
   },
   "file_extension": ".py",
   "mimetype": "text/x-python",
   "name": "python",
   "nbconvert_exporter": "python",
   "pygments_lexer": "ipython3",
   "version": "3.7.4"
  }
 },
 "nbformat": 4,
 "nbformat_minor": 5
}
