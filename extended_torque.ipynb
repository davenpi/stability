{
 "cells": [
  {
   "cell_type": "code",
   "execution_count": 1,
   "id": "4758d93c-e453-417a-b6c4-b9c3db7b6a49",
   "metadata": {},
   "outputs": [],
   "source": [
    "import math\n",
    "import numpy as np\n",
    "import scipy.integrate as si\n",
    "import matplotlib.pyplot as plt\n",
    "from scipy.stats import linregress"
   ]
  },
  {
   "cell_type": "code",
   "execution_count": 45,
   "id": "d18a253d-9756-4443-b458-25edacd65e05",
   "metadata": {},
   "outputs": [],
   "source": [
    "class SnakeExtended:\n",
    "    \"\"\"\n",
    "    Should add in plotting and boundary condition specification methods.\n",
    "    \"\"\"\n",
    "\n",
    "    def __init__(self, B, c, l, sigma, rho, mesh_points=50):\n",
    "        self.g = -9.8\n",
    "        self.B = B\n",
    "        self.c = c\n",
    "        self.sigma = sigma\n",
    "        self.rho = rho\n",
    "        self.lg = (-self.B / (self.rho * self.g)) ** (1 / 3)\n",
    "        self.l = l\n",
    "        self.x = np.linspace(0, 1, mesh_points)\n",
    "        self.y = np.zeros((4, self.x.size))\n",
    "        self.make_initial_guesses()\n",
    "\n",
    "    def make_initial_guesses(self):\n",
    "        \"\"\"\n",
    "        Initial parameter guesses for usual boundary conditions.\n",
    "        \"\"\"\n",
    "        self.y[0, 0] = 0\n",
    "        self.y[0, -1] = np.pi / 2\n",
    "        self.y[1, -1] = 0\n",
    "        self.y[2, -1] = 0\n",
    "        self.y[3, -1] = 0\n",
    "        dy_ds = np.exp(-((self.x - 0.25) ** 2) / 0.010)\n",
    "        y_guess = (\n",
    "            np.pi / 2 * si.cumtrapz(dy_ds, self.x, initial=0) / si.trapz(dy_ds, self.x)\n",
    "        )\n",
    "        self.y[0, :] = y_guess\n",
    "        # self.y[0, 0] = 0\n",
    "        # self.y[0, -1] = np.pi / 2\n",
    "        self.y[1, :] = dy_ds  # np.exp(-(self.x-0.2)**2/.010)\n",
    "\n",
    "    def fun_k(self, x, y, p):\n",
    "        l = p[0]\n",
    "        dy0_dx = y[1]\n",
    "        dy1_dx = y[2]\n",
    "        dy2_dx = y[3]\n",
    "        dy3_dx = -(self.B + self.c) * (l ** 2) / (self.c * self.sigma ** 2) * y[2] + (\n",
    "            self.rho * self.g * l ** 5\n",
    "        ) / (self.c * self.sigma ** 2) * x * np.cos(y[0])\n",
    "        # dy1_dx = (\n",
    "        #     self.B * (-l / self.lg) ** 3 * x * np.cos(y[0]) / (self.B + self.c)\n",
    "        # )  # need -g\n",
    "        dy_dx = np.vstack((dy0_dx, dy1_dx, dy2_dx, dy3_dx))\n",
    "        return dy_dx\n",
    "\n",
    "    def bc(self, ya, yb, p):\n",
    "        res1 = ya[0]\n",
    "        res2 = yb[0] - np.pi / 2\n",
    "        res3 = yb[1]\n",
    "        res4 = yb[2]\n",
    "        res5 = yb[3]\n",
    "        residuals = np.array([res1, res2, res3, res4, res5])\n",
    "        return residuals\n",
    "\n",
    "    def solve(self):\n",
    "        self.sol = si.solve_bvp(\n",
    "            fun=self.fun_k, bc=self.bc, x=self.x, y=self.y, p=[self.l]\n",
    "        )\n",
    "        self.l = self.sol.p[0]\n",
    "        self.x_pos = si.cumtrapz(self.l * np.cos(self.sol.y[0]), self.sol.x, initial=0)\n",
    "        self.y_pos = si.cumtrapz(self.l * np.sin(self.sol.y[0]), self.sol.x, initial=0)\n",
    "\n",
    "    def cost(self, alpha=0.5):\n",
    "        height_term = self.y_pos[-1] / self.l\n",
    "        self.height_cost = -alpha * height_term\n",
    "        work_term = self.c / (2 * self.B) * si.trapz(self.sol.y[1] ** 2, self.sol.x)\n",
    "        self.work_cost = (1 - alpha) * work_term\n",
    "        cost = self.height_cost + self.work_cost\n",
    "        return cost"
   ]
  },
  {
   "cell_type": "code",
   "execution_count": 82,
   "id": "e8381544-6480-4ff8-a1ce-5d915effee7a",
   "metadata": {},
   "outputs": [],
   "source": [
    "snake = SnakeExtended(B=1, c=10, l=1, sigma=0.10, rho=1)"
   ]
  },
  {
   "cell_type": "code",
   "execution_count": 83,
   "id": "d5e7b7a6-ed7a-4a48-a586-7376669c863f",
   "metadata": {},
   "outputs": [
    {
     "data": {
      "text/plain": [
       "0.4672951871697985"
      ]
     },
     "execution_count": 83,
     "metadata": {},
     "output_type": "execute_result"
    }
   ],
   "source": [
    "snake.lg"
   ]
  },
  {
   "cell_type": "code",
   "execution_count": 84,
   "id": "c467fd09-2290-4bee-8a43-3354dff4c7ed",
   "metadata": {},
   "outputs": [],
   "source": [
    "snake.solve()"
   ]
  },
  {
   "cell_type": "code",
   "execution_count": 85,
   "id": "305731bc-ed89-4ae9-8438-0b1013774d54",
   "metadata": {},
   "outputs": [
    {
     "data": {
      "text/plain": [
       "1"
      ]
     },
     "execution_count": 85,
     "metadata": {},
     "output_type": "execute_result"
    }
   ],
   "source": [
    "snake.sol.status"
   ]
  },
  {
   "cell_type": "code",
   "execution_count": 86,
   "id": "932aef93-fffb-4eb0-bac8-94ae59f0a253",
   "metadata": {},
   "outputs": [
    {
     "data": {
      "text/plain": [
       "'The maximum number of mesh nodes is exceeded.'"
      ]
     },
     "execution_count": 86,
     "metadata": {},
     "output_type": "execute_result"
    }
   ],
   "source": [
    "snake.sol.message"
   ]
  },
  {
   "cell_type": "code",
   "execution_count": 87,
   "id": "e973b6bf-fcb4-4e0e-ab7b-796355925fe8",
   "metadata": {},
   "outputs": [
    {
     "data": {
      "text/plain": [
       "[<matplotlib.lines.Line2D at 0x7fbd14e99190>]"
      ]
     },
     "execution_count": 87,
     "metadata": {},
     "output_type": "execute_result"
    },
    {
     "data": {
      "image/png": "[encoded data removed]",
      "text/plain": [
       "<Figure size 432x288 with 1 Axes>"
      ]
     },
     "metadata": {
      "needs_background": "light"
     },
     "output_type": "display_data"
    }
   ],
   "source": [
    "plt.plot(snake.sol.x, snake.sol.y[0])"
   ]
  },
  {
   "cell_type": "code",
   "execution_count": 88,
   "id": "afca4e46-8d91-49de-b9e3-7ed4d1912d9a",
   "metadata": {},
   "outputs": [
    {
     "data": {
      "text/plain": [
       "[<matplotlib.lines.Line2D at 0x7fbd1522cf90>]"
      ]
     },
     "execution_count": 88,
     "metadata": {},
     "output_type": "execute_result"
    },
    {
     "data": {
      "image/png": "[encoded data removed]",
      "text/plain": [
       "<Figure size 432x288 with 1 Axes>"
      ]
     },
     "metadata": {
      "needs_background": "light"
     },
     "output_type": "display_data"
    }
   ],
   "source": [
    "plt.plot(snake.x_pos, snake.y_pos)"
   ]
  },
  {
   "cell_type": "code",
   "execution_count": 89,
   "id": "8cf949c6-5af9-474f-8a03-546a546b827a",
   "metadata": {},
   "outputs": [
    {
     "data": {
      "text/plain": [
       "array([15.68128569])"
      ]
     },
     "execution_count": 89,
     "metadata": {},
     "output_type": "execute_result"
    }
   ],
   "source": [
    "snake.sol.p"
   ]
  },
  {
   "cell_type": "code",
   "execution_count": 81,
   "id": "a2647b3d-a59e-4030-8b83-8ae15f8c18ab",
   "metadata": {},
   "outputs": [
    {
     "data": {
      "text/plain": [
       "0.4672951871697985"
      ]
     },
     "execution_count": 81,
     "metadata": {},
     "output_type": "execute_result"
    }
   ],
   "source": [
    "snake.lg"
   ]
  },
  {
   "cell_type": "code",
   "execution_count": null,
   "id": "1d41c1fb-4cfd-423a-8e16-4b1ce2a1f6cb",
   "metadata": {},
   "outputs": [],
   "source": []
  }
 ],
 "metadata": {
  "kernelspec": {
   "display_name": "chameleon",
   "language": "python",
   "name": "chameleon"
  },
  "language_info": {
   "codemirror_mode": {
    "name": "ipython",
    "version": 3
   },
   "file_extension": ".py",
   "mimetype": "text/x-python",
   "name": "python",
   "nbconvert_exporter": "python",
   "pygments_lexer": "ipython3",
   "version": "3.7.4"
  }
 },
 "nbformat": 4,
 "nbformat_minor": 5
}
