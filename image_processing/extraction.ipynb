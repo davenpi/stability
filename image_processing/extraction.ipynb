{
 "cells": [
  {
   "cell_type": "code",
   "execution_count": 1,
   "id": "a2779a6e",
   "metadata": {},
   "outputs": [],
   "source": [
    "import matplotlib.pyplot as plt\n",
    "import numpy as np\n",
    "from scipy.interpolate import interp1d\n",
    "import skimage\n",
    "from skimage.morphology import skeletonize\n",
    "from skimage.util import invert"
   ]
  },
  {
   "cell_type": "markdown",
   "id": "dd42759b",
   "metadata": {},
   "source": [
    "### First step is to load in the image that I want to load in and plot it. \n",
    "\n",
    "The purpose of this step is to see where I should crop the image so that we just have an image from the head to the point of departure of the snake. This cropping step is not easily automatable right now and I am using this as a stop gap measure until I find a better method."
   ]
  },
  {
   "cell_type": "code",
   "execution_count": 2,
   "id": "2da9c418",
   "metadata": {},
   "outputs": [],
   "source": [
    "img_path = \"snake_filtered/im01.jpg\"  # specify the image we want to use.\n",
    "\n",
    "\n",
    "def plot_img(img: np.ndarray, size: int = 6) -> None:\n",
    "    \"\"\"\n",
    "    Plot an image.\n",
    "\n",
    "    Parameters\n",
    "    ----------\n",
    "    img : np.ndarray\n",
    "        Image array.\n",
    "    figsize : int\n",
    "        Size of figure. Default 8x8.\n",
    "\n",
    "    Returns\n",
    "    -------\n",
    "    \"\"\"\n",
    "    plt.figure(figsize=(size, size))\n",
    "    skimage.io.imshow(img)\n",
    "    plt.show()\n",
    "\n",
    "\n",
    "def load_and_plot(img_path: str) -> np.ndarray:\n",
    "    \"\"\"\n",
    "    Load the image and plot it. I'm plotting the inverse so that the snake has\n",
    "    high pixel values and the background has low pixel values.\n",
    "\n",
    "    Parameters\n",
    "    ----------\n",
    "    img_path : str\n",
    "        Path to image.\n",
    "\n",
    "    Returns\n",
    "    -------\n",
    "    img : np.ndarray\n",
    "        Inverted image array.\n",
    "    \"\"\"\n",
    "    img = skimage.io.imread(img_path)\n",
    "    img = invert(img)\n",
    "    plot_img(img)\n",
    "    return img"
   ]
  },
  {
   "cell_type": "code",
   "execution_count": 3,
   "id": "9f312170",
   "metadata": {},
   "outputs": [
    {
     "data": {
      "image/png": "[encoded data removed]",
      "text/plain": [
       "<Figure size 432x432 with 1 Axes>"
      ]
     },
     "metadata": {
      "needs_background": "light"
     },
     "output_type": "display_data"
    }
   ],
   "source": [
    "img = load_and_plot(img_path)"
   ]
  },
  {
   "cell_type": "markdown",
   "id": "b5d81d2c",
   "metadata": {},
   "source": [
    "### The next step is to crop the image so that the picture only includes the snake from the head to the point of departure\n",
    "\n",
    "The reason for this is that we are modeling the snake from the tip to the point it leaves the ground and the extra information is superfluous."
   ]
  },
  {
   "cell_type": "code",
   "execution_count": 57,
   "id": "5104ea43",
   "metadata": {},
   "outputs": [],
   "source": [
    "def crop(\n",
    "    img: np.ndarray, left: int, right: int, top: int, bottom: int = 3300, size: int = 8\n",
    ") -> np.ndarray:\n",
    "    \"\"\"\n",
    "    Crop the image so only to tip to the point of departure are visible.\n",
    "\n",
    "    Crop the image horizontally and vertically. Plot the result next to the\n",
    "    original. The intention is that this function provides some interactivty\n",
    "    in the cropping process.\n",
    "\n",
    "    Parameters\n",
    "    ----------\n",
    "    img : np.ndarray\n",
    "        Image array.\n",
    "    left : int\n",
    "        Drop all pixels before this on the left of the image.\n",
    "    right : int\n",
    "        Drop all pixels after this on the right of the image.\n",
    "    top : int\n",
    "        Drop all pixels above this at the top of the image.\n",
    "    bottom : int\n",
    "        Drop all pixels below this at the bottom of the image. Default=3300.\n",
    "        I can provide a default here because we know where the bottom of the\n",
    "        post is.\n",
    "    size : int\n",
    "        Size of plot.\n",
    "\n",
    "    Returns\n",
    "    -------\n",
    "    img : np.ndarray\n",
    "        Cropped image.\n",
    "    \"\"\"\n",
    "    cropped = img[top:bottom, left:right]\n",
    "    # plot_img(cropped)\n",
    "    fig, ax = plt.subplots(1, 2, figsize=(size, size))\n",
    "\n",
    "    ax[0].imshow(img, cmap=plt.cm.gray)\n",
    "    ax[1].imshow(cropped, cmap=plt.cm.gray)\n",
    "    plt.show()\n",
    "    return cropped"
   ]
  },
  {
   "cell_type": "code",
   "execution_count": 20,
   "id": "5f72655f",
   "metadata": {},
   "outputs": [
    {
     "data": {
      "image/png": "[encoded data removed]",
      "text/plain": [
       "<Figure size 576x576 with 2 Axes>"
      ]
     },
     "metadata": {
      "needs_background": "light"
     },
     "output_type": "display_data"
    }
   ],
   "source": [
    "cropped = crop(img, left=200, right=825, top=2750)"
   ]
  },
  {
   "cell_type": "markdown",
   "id": "1d86ffb9",
   "metadata": {},
   "source": [
    "### Now that we have the cropped image we need to do the extraction of the shape.\n",
    "\n",
    "For now I will extract the front of the snake but I will also look into extracting the back and the center line. In reality I think the center line is most appropriate so I will work towards that."
   ]
  },
  {
   "cell_type": "code",
   "execution_count": 50,
   "id": "49d4cdda",
   "metadata": {},
   "outputs": [],
   "source": [
    "def extract_front(cropped: np.ndarray) -> np.ndarray:\n",
    "    \"\"\"\n",
    "    Extract the front of the snake from the image and return the pixel values\n",
    "    describing the extracted shape.\n",
    "\n",
    "    Parameters\n",
    "    ----------\n",
    "    cropped : np.ndarray\n",
    "        Cropped image of snake.\n",
    "\n",
    "    Returns\n",
    "    -------\n",
    "    front : np.ndarray\n",
    "        A 2D array holding the x,y pixel values of the front of the snake.\n",
    "    \"\"\"\n",
    "    rows = []\n",
    "    columns = []\n",
    "    for i in range(cropped.shape[0]):\n",
    "        if np.any(cropped[i]):\n",
    "            row_idx = i\n",
    "            rows.append(row_idx)\n",
    "            column_idx = np.where(cropped[i])[0][0]\n",
    "            columns.append(column_idx)\n",
    "    rows = np.array(rows)\n",
    "    columns = np.array(columns)\n",
    "    front = np.array(list(zip(columns, rows)))\n",
    "    return front\n",
    "\n",
    "\n",
    "def plot_outline(cropped: np.ndarray, outline: np.ndarray, size: int = 6) -> None:\n",
    "    \"\"\"\n",
    "    Plot an outline of the shape of the snake.\n",
    "\n",
    "    Parameters\n",
    "    ----------\n",
    "    cropped : np.ndarray\n",
    "        Cropped image of the snake.\n",
    "    outline : np.ndarray\n",
    "        A 2D array giving pixel values for an outline.\n",
    "\n",
    "    Returns\n",
    "    -------\n",
    "    \"\"\"\n",
    "    plt.figure(figsize=(size, size))\n",
    "    skimage.io.imshow(cropped)\n",
    "    plt.scatter(outline[:, 0], outline[:, 1], s=2, color=\"red\")\n",
    "    plt.show()"
   ]
  },
  {
   "cell_type": "code",
   "execution_count": 51,
   "id": "b31e2f01",
   "metadata": {},
   "outputs": [
    {
     "data": {
      "image/png": "[encoded data removed]",
      "text/plain": [
       "<Figure size 432x432 with 1 Axes>"
      ]
     },
     "metadata": {
      "needs_background": "light"
     },
     "output_type": "display_data"
    }
   ],
   "source": [
    "front = extract_front(cropped)\n",
    "plot_outline(cropped, front)"
   ]
  },
  {
   "cell_type": "markdown",
   "id": "5d01f36c",
   "metadata": {},
   "source": [
    "### Now that we have extracted an outline from the image we need to interpolate the outline so we can do curvature analysis.\n",
    "\n",
    "In order to fit a spline we need to create a parameter to fit on. We will use the distance as our parameter."
   ]
  },
  {
   "cell_type": "code",
   "execution_count": 63,
   "id": "fbfd2e5d",
   "metadata": {},
   "outputs": [],
   "source": [
    "def get_distance_parameter(outline, px_per_cm=36.4):\n",
    "    \"\"\"\n",
    "    Use the outline to construct a distance parameter.\n",
    "\n",
    "    Parameters\n",
    "    ----------\n",
    "    outline : np.ndarray\n",
    "        Outline shape (front, back, or center) of the snake.\n",
    "    px_per_cm : float\n",
    "        Magic number which set the distance scale (in cm) in the image. This\n",
    "        number comes from knowing a physical distance in the image and seeing\n",
    "        how many pixels that distance takes up.\n",
    "\n",
    "    Returns\n",
    "    ------\n",
    "    distance : np.ndarray\n",
    "        This array contains the distance between the outline points (in cm).\n",
    "    \"\"\"\n",
    "    distance = np.cumsum(np.sqrt(np.sum(np.diff(outline, axis=0) ** 2, axis=1)))\n",
    "    distance = np.insert(distance, 0, 0)\n",
    "    distance = distance / px_per_cm\n",
    "    return distance\n",
    "\n",
    "\n",
    "def get_interpolation(distance: np.ndarray, outline: np.ndarray, num_points: int = 15):\n",
    "    \"\"\"\n",
    "    Get the interpolation of the line.\n",
    "    \"\"\"\n",
    "    interpolator = interp1d(distance, outline, axis=0)\n",
    "    interp_points = np.linspace(distance.min(), distance.max(), num_points)\n",
    "    interpolated_line = interpolator(interp_points)\n",
    "    return interpolated_line\n",
    "\n",
    "\n",
    "def plot_interpolated_line(\n",
    "    cropped: np.ndarray,\n",
    "    outline: np.ndarray,\n",
    "    interpolated_line: np.ndarray,\n",
    "    size: int = 8,\n",
    "):\n",
    "    \"\"\"\n",
    "    Plot the interpolation line over top of the snake image.\n",
    "\n",
    "    Paramters\n",
    "    ---------\n",
    "    cropped : np.ndarray\n",
    "        Cropped image of the snake.\n",
    "    outline : np.ndarray\n",
    "        A 2D array with the outline (front, back, or center) outline of the\n",
    "        snake. The columns correspond to x and y pixel values.\n",
    "    interpolated_line : np.ndarray\n",
    "        A 2D array with the interpolation x and y pixel values for the outline.\n",
    "\n",
    "    Returns\n",
    "    -------\n",
    "    \"\"\"\n",
    "    plt.figure(figsize=(size, size))\n",
    "    skimage.io.imshow(cropped)\n",
    "    plt.scatter(outline[:, 0], outline[:, 1], s=2, color=\"red\")\n",
    "    plt.scatter(interpolated_line[:, 0], interpolated_line[:, 1])\n",
    "    plt.show()"
   ]
  },
  {
   "cell_type": "code",
   "execution_count": 64,
   "id": "1813a65f",
   "metadata": {},
   "outputs": [],
   "source": [
    "distance = get_distance_parameter(outline=front)\n",
    "interpolated_line = get_interpolation(distance, front)"
   ]
  },
  {
   "cell_type": "code",
   "execution_count": 65,
   "id": "55bfce40",
   "metadata": {},
   "outputs": [
    {
     "data": {
      "image/png": "[encoded data removed]",
      "text/plain": [
       "<Figure size 576x576 with 1 Axes>"
      ]
     },
     "metadata": {
      "needs_background": "light"
     },
     "output_type": "display_data"
    }
   ],
   "source": [
    "plot_interpolated_line(cropped, front, interpolated_line)"
   ]
  },
  {
   "cell_type": "markdown",
   "id": "f170226e",
   "metadata": {},
   "source": [
    "### Now that we have an outline of the snake extracted and we have a fit to the outline, we want to extract the curvature profile and plot that. \n",
    "\n",
    "We don't have an arc length parametrization because the magnitude of the tangent vector is not one. Instead we have a proper parameterization because the derivatives $\\frac{dx}{dt}$ and $\\frac{dy}{dt}$ exist everywhere and are not zero simultatneously. To compute curvature we can then use the [following formula](https://en.wikipedia.org/wiki/Curvature)\n",
    "\n",
    "\\begin{equation}\n",
    "|\\kappa| = \\frac{|x'y''-x''y'|}{(x'^2+y'^2)^{\\frac{3}{2}}}\n",
    "\\end{equation}"
   ]
  },
  {
   "cell_type": "code",
   "execution_count": null,
   "id": "da2a2fe0",
   "metadata": {},
   "outputs": [],
   "source": []
  }
 ],
 "metadata": {
  "kernelspec": {
   "display_name": "deeplabcut",
   "language": "python",
   "name": "deeplabcut"
  },
  "language_info": {
   "codemirror_mode": {
    "name": "ipython",
    "version": 3
   },
   "file_extension": ".py",
   "mimetype": "text/x-python",
   "name": "python",
   "nbconvert_exporter": "python",
   "pygments_lexer": "ipython3",
   "version": "3.8.13"
  }
 },
 "nbformat": 4,
 "nbformat_minor": 5
}
