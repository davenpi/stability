{
 "cells": [
  {
   "cell_type": "code",
   "execution_count": 1,
   "id": "201d096b",
   "metadata": {},
   "outputs": [],
   "source": [
    "import os\n",
    "import re\n",
    "import numpy as np\n",
    "import matplotlib.pyplot as plt"
   ]
  },
  {
   "cell_type": "code",
   "execution_count": 2,
   "id": "fb086d4f",
   "metadata": {},
   "outputs": [],
   "source": [
    "ims_path = \"/Users/iandavenport/Desktop/research/projects/stability/vids/python_vids/g66_t3_c8/processed_ims/extracted_data/\""
   ]
  },
  {
   "cell_type": "code",
   "execution_count": 3,
   "id": "2ed8e606",
   "metadata": {},
   "outputs": [],
   "source": [
    "files = []\n",
    "for filename in os.listdir(ims_path):\n",
    "    if filename.endswith(\".npz\"):\n",
    "        im_file = os.path.join(ims_path, filename)\n",
    "        files.append(im_file)"
   ]
  },
  {
   "cell_type": "code",
   "execution_count": 4,
   "id": "ccc6ae82",
   "metadata": {},
   "outputs": [],
   "source": [
    "def extract_num_from_npy_string(string):\n",
    "    numbers = re.findall(\"[0-9]+\", string[-9:])\n",
    "    numbers = int(numbers[0])\n",
    "    return numbers"
   ]
  },
  {
   "cell_type": "code",
   "execution_count": 5,
   "id": "2eee63aa",
   "metadata": {},
   "outputs": [],
   "source": [
    "fnames = sorted(files, key=extract_num_from_npy_string)"
   ]
  },
  {
   "cell_type": "code",
   "execution_count": 6,
   "id": "f5c692e5",
   "metadata": {},
   "outputs": [
    {
     "data": {
      "text/plain": [
       "['/Users/iandavenport/Desktop/research/projects/stability/vids/python_vids/g66_t3_c8/processed_ims/extracted_data/im0.npz',\n",
       " '/Users/iandavenport/Desktop/research/projects/stability/vids/python_vids/g66_t3_c8/processed_ims/extracted_data/im1.npz',\n",
       " '/Users/iandavenport/Desktop/research/projects/stability/vids/python_vids/g66_t3_c8/processed_ims/extracted_data/im2.npz',\n",
       " '/Users/iandavenport/Desktop/research/projects/stability/vids/python_vids/g66_t3_c8/processed_ims/extracted_data/im3.npz',\n",
       " '/Users/iandavenport/Desktop/research/projects/stability/vids/python_vids/g66_t3_c8/processed_ims/extracted_data/im4.npz',\n",
       " '/Users/iandavenport/Desktop/research/projects/stability/vids/python_vids/g66_t3_c8/processed_ims/extracted_data/im5.npz',\n",
       " '/Users/iandavenport/Desktop/research/projects/stability/vids/python_vids/g66_t3_c8/processed_ims/extracted_data/im6.npz',\n",
       " '/Users/iandavenport/Desktop/research/projects/stability/vids/python_vids/g66_t3_c8/processed_ims/extracted_data/im7.npz',\n",
       " '/Users/iandavenport/Desktop/research/projects/stability/vids/python_vids/g66_t3_c8/processed_ims/extracted_data/im8.npz',\n",
       " '/Users/iandavenport/Desktop/research/projects/stability/vids/python_vids/g66_t3_c8/processed_ims/extracted_data/im9.npz',\n",
       " '/Users/iandavenport/Desktop/research/projects/stability/vids/python_vids/g66_t3_c8/processed_ims/extracted_data/im10.npz',\n",
       " '/Users/iandavenport/Desktop/research/projects/stability/vids/python_vids/g66_t3_c8/processed_ims/extracted_data/im11.npz',\n",
       " '/Users/iandavenport/Desktop/research/projects/stability/vids/python_vids/g66_t3_c8/processed_ims/extracted_data/im12.npz',\n",
       " '/Users/iandavenport/Desktop/research/projects/stability/vids/python_vids/g66_t3_c8/processed_ims/extracted_data/im13.npz',\n",
       " '/Users/iandavenport/Desktop/research/projects/stability/vids/python_vids/g66_t3_c8/processed_ims/extracted_data/im14.npz',\n",
       " '/Users/iandavenport/Desktop/research/projects/stability/vids/python_vids/g66_t3_c8/processed_ims/extracted_data/im15.npz',\n",
       " '/Users/iandavenport/Desktop/research/projects/stability/vids/python_vids/g66_t3_c8/processed_ims/extracted_data/im16.npz',\n",
       " '/Users/iandavenport/Desktop/research/projects/stability/vids/python_vids/g66_t3_c8/processed_ims/extracted_data/im17.npz',\n",
       " '/Users/iandavenport/Desktop/research/projects/stability/vids/python_vids/g66_t3_c8/processed_ims/extracted_data/im18.npz',\n",
       " '/Users/iandavenport/Desktop/research/projects/stability/vids/python_vids/g66_t3_c8/processed_ims/extracted_data/im19.npz',\n",
       " '/Users/iandavenport/Desktop/research/projects/stability/vids/python_vids/g66_t3_c8/processed_ims/extracted_data/im20.npz',\n",
       " '/Users/iandavenport/Desktop/research/projects/stability/vids/python_vids/g66_t3_c8/processed_ims/extracted_data/im21.npz',\n",
       " '/Users/iandavenport/Desktop/research/projects/stability/vids/python_vids/g66_t3_c8/processed_ims/extracted_data/im22.npz',\n",
       " '/Users/iandavenport/Desktop/research/projects/stability/vids/python_vids/g66_t3_c8/processed_ims/extracted_data/im23.npz',\n",
       " '/Users/iandavenport/Desktop/research/projects/stability/vids/python_vids/g66_t3_c8/processed_ims/extracted_data/im24.npz',\n",
       " '/Users/iandavenport/Desktop/research/projects/stability/vids/python_vids/g66_t3_c8/processed_ims/extracted_data/im25.npz',\n",
       " '/Users/iandavenport/Desktop/research/projects/stability/vids/python_vids/g66_t3_c8/processed_ims/extracted_data/im26.npz',\n",
       " '/Users/iandavenport/Desktop/research/projects/stability/vids/python_vids/g66_t3_c8/processed_ims/extracted_data/im27.npz',\n",
       " '/Users/iandavenport/Desktop/research/projects/stability/vids/python_vids/g66_t3_c8/processed_ims/extracted_data/im28.npz',\n",
       " '/Users/iandavenport/Desktop/research/projects/stability/vids/python_vids/g66_t3_c8/processed_ims/extracted_data/im29.npz',\n",
       " '/Users/iandavenport/Desktop/research/projects/stability/vids/python_vids/g66_t3_c8/processed_ims/extracted_data/im30.npz',\n",
       " '/Users/iandavenport/Desktop/research/projects/stability/vids/python_vids/g66_t3_c8/processed_ims/extracted_data/im31.npz',\n",
       " '/Users/iandavenport/Desktop/research/projects/stability/vids/python_vids/g66_t3_c8/processed_ims/extracted_data/im32.npz',\n",
       " '/Users/iandavenport/Desktop/research/projects/stability/vids/python_vids/g66_t3_c8/processed_ims/extracted_data/im33.npz',\n",
       " '/Users/iandavenport/Desktop/research/projects/stability/vids/python_vids/g66_t3_c8/processed_ims/extracted_data/im34.npz',\n",
       " '/Users/iandavenport/Desktop/research/projects/stability/vids/python_vids/g66_t3_c8/processed_ims/extracted_data/im35.npz',\n",
       " '/Users/iandavenport/Desktop/research/projects/stability/vids/python_vids/g66_t3_c8/processed_ims/extracted_data/im36.npz',\n",
       " '/Users/iandavenport/Desktop/research/projects/stability/vids/python_vids/g66_t3_c8/processed_ims/extracted_data/im37.npz',\n",
       " '/Users/iandavenport/Desktop/research/projects/stability/vids/python_vids/g66_t3_c8/processed_ims/extracted_data/im38.npz',\n",
       " '/Users/iandavenport/Desktop/research/projects/stability/vids/python_vids/g66_t3_c8/processed_ims/extracted_data/im39.npz',\n",
       " '/Users/iandavenport/Desktop/research/projects/stability/vids/python_vids/g66_t3_c8/processed_ims/extracted_data/im40.npz',\n",
       " '/Users/iandavenport/Desktop/research/projects/stability/vids/python_vids/g66_t3_c8/processed_ims/extracted_data/im41.npz',\n",
       " '/Users/iandavenport/Desktop/research/projects/stability/vids/python_vids/g66_t3_c8/processed_ims/extracted_data/im42.npz',\n",
       " '/Users/iandavenport/Desktop/research/projects/stability/vids/python_vids/g66_t3_c8/processed_ims/extracted_data/im43.npz',\n",
       " '/Users/iandavenport/Desktop/research/projects/stability/vids/python_vids/g66_t3_c8/processed_ims/extracted_data/im44.npz',\n",
       " '/Users/iandavenport/Desktop/research/projects/stability/vids/python_vids/g66_t3_c8/processed_ims/extracted_data/im45.npz',\n",
       " '/Users/iandavenport/Desktop/research/projects/stability/vids/python_vids/g66_t3_c8/processed_ims/extracted_data/im46.npz',\n",
       " '/Users/iandavenport/Desktop/research/projects/stability/vids/python_vids/g66_t3_c8/processed_ims/extracted_data/im47.npz',\n",
       " '/Users/iandavenport/Desktop/research/projects/stability/vids/python_vids/g66_t3_c8/processed_ims/extracted_data/im48.npz',\n",
       " '/Users/iandavenport/Desktop/research/projects/stability/vids/python_vids/g66_t3_c8/processed_ims/extracted_data/im49.npz',\n",
       " '/Users/iandavenport/Desktop/research/projects/stability/vids/python_vids/g66_t3_c8/processed_ims/extracted_data/im50.npz']"
      ]
     },
     "execution_count": 6,
     "metadata": {},
     "output_type": "execute_result"
    }
   ],
   "source": [
    "fnames"
   ]
  },
  {
   "cell_type": "code",
   "execution_count": 7,
   "id": "e3bbbd06",
   "metadata": {},
   "outputs": [],
   "source": [
    "# fnames = [\n",
    "#     \"im01\",\n",
    "#     \"im02\",\n",
    "#     \"im03\",\n",
    "#     \"im04\",\n",
    "#     \"im05\",\n",
    "#     \"im06\",\n",
    "#     \"im07\",\n",
    "#     \"im08\",\n",
    "#     \"im09\",\n",
    "#     \"im10\",\n",
    "#     \"im11\",\n",
    "#     \"im12\",\n",
    "#     \"im13\",\n",
    "# ]\n",
    "# fnames = [\"bi26_g54e/extracted_data/\" + s + \".npz\" for s in fnames]\n",
    "\n",
    "\n",
    "# format is cropped image, interpolated line, interpolation points, curvature, and crop points!\n",
    "cropped_images = []\n",
    "interpolated_lines = []\n",
    "interpolation_points = []\n",
    "curvatures = []\n",
    "# crop_points = []\n",
    "\n",
    "# populate the arrays\n",
    "for f in fnames:\n",
    "    arr = np.load(f)\n",
    "    cropped_images.append(arr[\"arr_0\"])\n",
    "    interpolated_lines.append(arr[\"arr_1\"])\n",
    "    interpolation_points.append(arr[\"arr_2\"])\n",
    "    curvatures.append(arr[\"arr_3\"])\n",
    "    # crop_points.append(arr[\"arr_4\"])"
   ]
  },
  {
   "cell_type": "markdown",
   "id": "5ae0dfec",
   "metadata": {},
   "source": [
    "## First create the tuples"
   ]
  },
  {
   "cell_type": "code",
   "execution_count": 8,
   "id": "16afac82",
   "metadata": {},
   "outputs": [],
   "source": [
    "n_ims = len(interpolation_points)\n",
    "frms_list = []\n",
    "for i in range(n_ims):\n",
    "    frmi = list(zip(interpolation_points[i], curvatures[i]))\n",
    "    frms_list.append(frmi)"
   ]
  },
  {
   "cell_type": "code",
   "execution_count": 9,
   "id": "f54b6639",
   "metadata": {},
   "outputs": [],
   "source": [
    "def deal_with_zero_dup(tup_list: list, arr_idx: int, n_ims: int) -> list:\n",
    "    \"\"\"\n",
    "    Drop the tuples which duplicate zero starting elements\n",
    "\n",
    "    Just gets rid of duplicates in the list and makes interpolation easier.\n",
    "    In general this is a dirty method but it's better than nothing.\n",
    "    \"\"\"\n",
    "    zero_start_list = [i for i in tup_list if i[0] == 0.0]\n",
    "    tup_list = tup_list[n_ims:]  # ignore the first n_ims things\n",
    "    tup = zero_start_list[arr_idx]\n",
    "    tup_list.insert(0, tup)\n",
    "    return tup_list"
   ]
  },
  {
   "cell_type": "markdown",
   "id": "e112ad99",
   "metadata": {},
   "source": [
    "## Now I need to go through and append the curvatures that are not the same"
   ]
  },
  {
   "cell_type": "code",
   "execution_count": 10,
   "id": "498aa14d",
   "metadata": {},
   "outputs": [],
   "source": [
    "zeros_list = np.zeros(100)\n",
    "padded_frames = []\n",
    "for i in range(n_ims):\n",
    "    frmi = frms_list[i]\n",
    "    idxs = list(np.linspace(0, n_ims - 1, n_ims, dtype=int))\n",
    "    idxs.remove(i)\n",
    "    for idx in idxs:\n",
    "        zipped = list(zip(interpolation_points[idx], zeros_list))\n",
    "        frmi.extend(zipped)\n",
    "    frmi.sort(key=lambda el: el[0])\n",
    "    frmi = deal_with_zero_dup(frmi, i, n_ims)\n",
    "    padded_frames.append(frmi)"
   ]
  },
  {
   "cell_type": "code",
   "execution_count": 11,
   "id": "887ee8ad",
   "metadata": {},
   "outputs": [],
   "source": [
    "ext_curvatures = []\n",
    "for lst in padded_frames:\n",
    "    ext_curve = [tup[1] for tup in lst]\n",
    "    ext_curvatures.append(ext_curve)"
   ]
  },
  {
   "cell_type": "code",
   "execution_count": 12,
   "id": "b07b877c",
   "metadata": {},
   "outputs": [],
   "source": [
    "curve_mat = np.vstack(ext_curvatures)"
   ]
  },
  {
   "cell_type": "code",
   "execution_count": 13,
   "id": "d62e95ef",
   "metadata": {},
   "outputs": [
    {
     "data": {
      "image/png": "[encoded data removed]",
      "text/plain": [
       "<Figure size 720x720 with 2 Axes>"
      ]
     },
     "metadata": {
      "needs_background": "light"
     },
     "output_type": "display_data"
    }
   ],
   "source": [
    "plt.figure(figsize=(10, 10))\n",
    "plt.imshow(curve_mat[::], aspect=\"auto\", origin=\"lower\")\n",
    "plt.colorbar()\n",
    "plt.xlabel(\"Length of snake\")\n",
    "# plt.show()\n",
    "plt.savefig(\"time_kymograph.png\")"
   ]
  },
  {
   "cell_type": "markdown",
   "id": "3ce2a3be",
   "metadata": {},
   "source": [
    "## Now I need to figure out some kind of interpolation scheme to get rid of the stripes where I don't really want them"
   ]
  },
  {
   "cell_type": "code",
   "execution_count": null,
   "id": "dd102c17",
   "metadata": {},
   "outputs": [],
   "source": []
  },
  {
   "cell_type": "markdown",
   "id": "4c22b22a",
   "metadata": {},
   "source": [
    "### sample code for one frame"
   ]
  },
  {
   "cell_type": "code",
   "execution_count": null,
   "id": "f1d9f251",
   "metadata": {},
   "outputs": [],
   "source": [
    "frm1 = list(zip(interpolation_points[0], curvatures[0]))\n",
    "for i in range(1, 13):\n",
    "    zipped = list(zip(interpolation_points[i], zeros_list))\n",
    "    frm1.extend(zipped)"
   ]
  },
  {
   "cell_type": "code",
   "execution_count": null,
   "id": "14d92b33",
   "metadata": {},
   "outputs": [],
   "source": [
    "frm1.sort(key=lambda el: el[0])"
   ]
  },
  {
   "cell_type": "code",
   "execution_count": null,
   "id": "fd74c5dc",
   "metadata": {},
   "outputs": [],
   "source": [
    "frm1 = deal_with_zero_dup(frm1)"
   ]
  },
  {
   "cell_type": "code",
   "execution_count": null,
   "id": "f808e097",
   "metadata": {},
   "outputs": [],
   "source": [
    "frm1_ext_curve = [tup[1] for tup in frm1]"
   ]
  }
 ],
 "metadata": {
  "kernelspec": {
   "display_name": "deeplabcut",
   "language": "python",
   "name": "deeplabcut"
  },
  "language_info": {
   "codemirror_mode": {
    "name": "ipython",
    "version": 3
   },
   "file_extension": ".py",
   "mimetype": "text/x-python",
   "name": "python",
   "nbconvert_exporter": "python",
   "pygments_lexer": "ipython3",
   "version": "3.8.13"
  }
 },
 "nbformat": 4,
 "nbformat_minor": 5
}
