{
 "cells": [
  {
   "cell_type": "code",
   "execution_count": 2,
   "id": "e6e4230e",
   "metadata": {},
   "outputs": [],
   "source": [
    "import os\n",
    "import re\n",
    "import subprocess"
   ]
  },
  {
   "cell_type": "markdown",
   "id": "2a4af9b4",
   "metadata": {},
   "source": [
    "# First I want to make sure I can loop through all the directories in the vids folder: \n",
    "\n",
    "So I want to print out the names of the subfolders in vids"
   ]
  },
  {
   "cell_type": "code",
   "execution_count": 3,
   "id": "bda3e5e7",
   "metadata": {},
   "outputs": [
    {
     "name": "stdout",
     "output_type": "stream",
     "text": [
      "vids/bi26\n",
      "vids/bi20\n",
      "vids/bi23\n",
      "vids/python_vids\n"
     ]
    }
   ],
   "source": [
    "rootdir = \"vids\"\n",
    "vid_dirs = []\n",
    "for file in os.listdir(rootdir):\n",
    "    d = os.path.join(rootdir, file)\n",
    "    if os.path.isdir(d):\n",
    "        print(d)\n",
    "        vid_dirs.append(d)"
   ]
  },
  {
   "cell_type": "code",
   "execution_count": 4,
   "id": "5f7420af",
   "metadata": {},
   "outputs": [
    {
     "data": {
      "text/plain": [
       "['vids/bi26', 'vids/bi20', 'vids/bi23', 'vids/python_vids']"
      ]
     },
     "execution_count": 4,
     "metadata": {},
     "output_type": "execute_result"
    }
   ],
   "source": [
    "vid_dirs"
   ]
  },
  {
   "cell_type": "markdown",
   "id": "f0fac854",
   "metadata": {},
   "source": [
    "# Next I want to get all the subdirectories of these guys"
   ]
  },
  {
   "cell_type": "code",
   "execution_count": 5,
   "id": "b965f0bf",
   "metadata": {},
   "outputs": [
    {
     "name": "stdout",
     "output_type": "stream",
     "text": [
      "['vids/bi26', 'vids/bi20', 'vids/bi23', 'vids/python_vids']\n",
      "\n",
      " Now printing sub directories \n",
      "\n"
     ]
    }
   ],
   "source": [
    "rootdir = \"vids\"\n",
    "snake_dirs = []\n",
    "for file in os.listdir(rootdir):\n",
    "    d = os.path.join(rootdir, file)\n",
    "    if os.path.isdir(d):\n",
    "        snake_dirs.append(d)\n",
    "\n",
    "print(snake_dirs)\n",
    "\n",
    "print(\"\\n Now printing sub directories \\n\")\n",
    "vid_dirs = []\n",
    "# Now for each of these directories loop and get all video directories\n",
    "for directory in snake_dirs:\n",
    "    for f in os.listdir(directory):\n",
    "        d = os.path.join(directory, f)\n",
    "        if os.path.isdir(d):\n",
    "            vid_dirs.append(d)"
   ]
  },
  {
   "cell_type": "code",
   "execution_count": 14,
   "id": "46d7e778",
   "metadata": {},
   "outputs": [
    {
     "ename": "FileNotFoundError",
     "evalue": "[Errno 2] No such file or directory: 'reaching_num.txt'",
     "output_type": "error",
     "traceback": [
      "\u001b[0;31m---------------------------------------------------------------------------\u001b[0m",
      "\u001b[0;31mFileNotFoundError\u001b[0m                         Traceback (most recent call last)",
      "Input \u001b[0;32mIn [14]\u001b[0m, in \u001b[0;36m<cell line: 1>\u001b[0;34m()\u001b[0m\n\u001b[0;32m----> 1\u001b[0m \u001b[38;5;28;01mwith\u001b[39;00m \u001b[38;5;28;43mopen\u001b[39;49m\u001b[43m(\u001b[49m\u001b[38;5;124;43m\"\u001b[39;49m\u001b[38;5;124;43mreaching_num.txt\u001b[39;49m\u001b[38;5;124;43m\"\u001b[39;49m\u001b[43m)\u001b[49m \u001b[38;5;28;01mas\u001b[39;00m f:\n\u001b[1;32m      2\u001b[0m     lines \u001b[38;5;241m=\u001b[39m f\u001b[38;5;241m.\u001b[39mreadlines()\n",
      "\u001b[0;31mFileNotFoundError\u001b[0m: [Errno 2] No such file or directory: 'reaching_num.txt'"
     ]
    }
   ],
   "source": []
  },
  {
   "cell_type": "code",
   "execution_count": 7,
   "id": "48525825",
   "metadata": {},
   "outputs": [],
   "source": [
    "def get_calibration(directory):\n",
    "    cal = int(directory[-2:])\n",
    "    return cal\n",
    "\n",
    "\n",
    "for vid_dir in vid_dirs:\n",
    "    print(\"calibration for this videos is: \")"
   ]
  },
  {
   "cell_type": "code",
   "execution_count": 12,
   "id": "0af7a8c6",
   "metadata": {},
   "outputs": [],
   "source": [
    "a = \"python_aksa\""
   ]
  },
  {
   "cell_type": "code",
   "execution_count": 13,
   "id": "100c999c",
   "metadata": {},
   "outputs": [
    {
     "data": {
      "text/plain": [
       "True"
      ]
     },
     "execution_count": 13,
     "metadata": {},
     "output_type": "execute_result"
    }
   ],
   "source": [
    "\"python\" in a"
   ]
  },
  {
   "cell_type": "code",
   "execution_count": null,
   "id": "37bec4bc",
   "metadata": {},
   "outputs": [],
   "source": []
  }
 ],
 "metadata": {
  "kernelspec": {
   "display_name": "deeplabcut",
   "language": "python",
   "name": "deeplabcut"
  },
  "language_info": {
   "codemirror_mode": {
    "name": "ipython",
    "version": 3
   },
   "file_extension": ".py",
   "mimetype": "text/x-python",
   "name": "python",
   "nbconvert_exporter": "python",
   "pygments_lexer": "ipython3",
   "version": "3.8.13"
  }
 },
 "nbformat": 4,
 "nbformat_minor": 5
}
