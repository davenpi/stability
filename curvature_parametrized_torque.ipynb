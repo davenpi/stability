{
 "cells": [
  {
   "cell_type": "code",
   "execution_count": 43,
   "id": "9075894b-9a25-4ba9-9e02-2717576a6bbc",
   "metadata": {},
   "outputs": [],
   "source": [
    "import math\n",
    "import numpy as np\n",
    "import scipy.integrate as si\n",
    "import matplotlib.pyplot as plt\n",
    "from solve_bvp import StabilityEvalEnv"
   ]
  },
  {
   "cell_type": "code",
   "execution_count": 44,
   "id": "823b69bb-ee1e-4937-b610-62ce851dd191",
   "metadata": {},
   "outputs": [],
   "source": [
    "g = -10\n",
    "rho = 10\n",
    "l = 3\n",
    "B = 1\n",
    "lg = (-B / (g * rho)) ** (1 / 3)"
   ]
  },
  {
   "cell_type": "code",
   "execution_count": null,
   "id": "ac6eefe9-2522-40ca-a6c7-b1a12fdda105",
   "metadata": {
    "tags": []
   },
   "outputs": [],
   "source": []
  },
  {
   "cell_type": "code",
   "execution_count": 45,
   "id": "e8337a97-5b90-4405-a9eb-76224205410b",
   "metadata": {},
   "outputs": [],
   "source": [
    "# def fun(x, y, p):\n",
    "#     \"\"\"Return dy/dx\"\"\"\n",
    "#     l = p[0]\n",
    "#     dy1_dx = y[1]\n",
    "#     dy2_dx = (rho*g*(l**3)*x*np.cos(y[0]))/(B+c)\n",
    "#     dy_dx = np.vstack((dy1_dx, dy2_dx))\n",
    "#     return dy_dx\n",
    "\n",
    "# def bc(ya, yb, p):\n",
    "#     \"\"\"\n",
    "#     Boundary residuals.\n",
    "#     \"\"\"\n",
    "#     res1 = ya[0]\n",
    "#     res2 = yb[0] - np.pi/2\n",
    "#     res3 = yb[1]\n",
    "#     residuals = np.array([res1, res2, res3])\n",
    "#     return residuals\n",
    "\n",
    "# # initial guesses\n",
    "# x = np.linspace(0, 1, 50)\n",
    "# y = np.zeros((2, x.size))\n",
    "# y[0, 0] = 0\n",
    "# y[0, -1] = np.pi/2\n",
    "# y[1, -1] = 0\n",
    "# sol = si.solve_bvp(fun, bc, x, y, [l])\n",
    "# x = si.cumtrapz(sol.p[0]*np.cos(sol.y[0]), sol.x)\n",
    "# y = si.cumtrapz(sol.p[0]*np.sin(sol.y[0]), sol.x)\n",
    "# x -= x[0]\n",
    "# y -= y[0]"
   ]
  },
  {
   "cell_type": "code",
   "execution_count": 46,
   "id": "d9a11811-c066-4af9-ab5b-a7c012a56404",
   "metadata": {
    "tags": []
   },
   "outputs": [],
   "source": [
    "g = -10\n",
    "rho = 0.1\n",
    "l = 3\n",
    "B = 1\n",
    "lg = (-B / (g * rho)) ** (1 / 3)\n",
    "cs = np.linspace(0, 10 * B, 50)\n",
    "cost = []\n",
    "ls = []\n",
    "alpha = 0.9\n",
    "\n",
    "for c in cs:\n",
    "\n",
    "    def fun(x, y, p):\n",
    "        \"\"\"Return dy/dx\"\"\"\n",
    "        l = p[0]\n",
    "        # c = p[1]\n",
    "        dy1_dx = y[1]\n",
    "        dy2_dx = (rho * g * (l ** 3) * x * np.cos(y[0])) / (B + c)\n",
    "        dy_dx = np.vstack((dy1_dx, dy2_dx))\n",
    "        return dy_dx\n",
    "\n",
    "    def bc(ya, yb, p):\n",
    "        \"\"\"\n",
    "        Boundary residuals.\n",
    "        \"\"\"\n",
    "        res1 = ya[0]\n",
    "        res2 = yb[0] - np.pi / 2\n",
    "        res3 = yb[1]\n",
    "        # res4 = yb[0]\n",
    "        residuals = np.array([res1, res2, res3])\n",
    "        return residuals\n",
    "\n",
    "    x = np.linspace(0, 1, 50)\n",
    "    y = np.zeros((2, x.size))\n",
    "    y[0, 0] = 0\n",
    "    y[0, -1] = np.pi / 2\n",
    "    y[1, -1] = 0\n",
    "    sol = si.solve_bvp(fun, bc, x, y, [l])\n",
    "    x = si.cumtrapz(sol.p[0] * np.cos(sol.y[0]), sol.x)\n",
    "    y = si.cumtrapz(sol.p[0] * np.sin(sol.y[0]), sol.x)\n",
    "    x -= x[0]\n",
    "    y -= y[0]\n",
    "    l = sol.p[0]\n",
    "    # c = sol.p[1]\n",
    "    height = y[-1]\n",
    "    work_int = si.trapz(sol.y[1] ** 2, sol.x)\n",
    "    J = -alpha * height / l + (1 - alpha) * c / (2 * B) * work_int\n",
    "    # cost[i] = J\n",
    "    # print(J)\n",
    "    # print(l)\n",
    "\n",
    "    if sol.status == 0:\n",
    "        cost.append((c, J))\n",
    "        ls.append(sol.p[0])\n",
    "\n",
    "    if sol.status != 0:\n",
    "        print(\"didn't converge\")\n",
    "    # del sol, x, y, l"
   ]
  },
  {
   "cell_type": "code",
   "execution_count": 47,
   "id": "1433312f-e2a2-46ea-b488-e2c2cfd52c24",
   "metadata": {},
   "outputs": [],
   "source": [
    "good_cs = [tup[0] for tup in cost]\n",
    "costs = [tup[1] for tup in cost]"
   ]
  },
  {
   "cell_type": "code",
   "execution_count": 50,
   "id": "64ac4f2d-d5ac-42ce-82a1-8f23c565c17f",
   "metadata": {},
   "outputs": [
    {
     "data": {
      "image/png": "[encoded data removed]",
      "text/plain": [
       "<Figure size 432x288 with 1 Axes>"
      ]
     },
     "metadata": {
      "needs_background": "light"
     },
     "output_type": "display_data"
    }
   ],
   "source": [
    "# plt.plot(good_cs, costs)\n",
    "# plt.xlabel(\"c\")\n",
    "# plt.ylabel(\"cost\")\n",
    "# plt.title(\"Cost as a function of c\")\n",
    "# plt.show()"
   ]
  },
  {
   "cell_type": "code",
   "execution_count": 49,
   "id": "461a420c-db8d-4b62-8a70-39eafbb5f20e",
   "metadata": {},
   "outputs": [],
   "source": [
    "# plt.plot(good_cs, np.array(ls)/lg)"
   ]
  },
  {
   "cell_type": "code",
   "execution_count": 51,
   "id": "bd6a9967-5782-405d-ba3b-a40144bfbdbb",
   "metadata": {},
   "outputs": [],
   "source": [
    "g = -9.8\n",
    "rho = 1\n",
    "l = 3"
   ]
  },
  {
   "cell_type": "code",
   "execution_count": 52,
   "id": "74d82c0b-89f9-4c6a-b270-8f9d49ae6ce8",
   "metadata": {},
   "outputs": [],
   "source": [
    "bs = np.linspace(0.001, 1, 10)\n",
    "lgs = (-bs / (g * rho)) ** (1 / 3)\n",
    "L = 1.5e3 * np.amax(lg)\n",
    "M = 200\n",
    "alpha = 0.9"
   ]
  },
  {
   "cell_type": "code",
   "execution_count": 53,
   "id": "05f562c6-40fb-4265-9352-2dbca53c636a",
   "metadata": {},
   "outputs": [],
   "source": [
    "def run_sim(b, c, l=3):\n",
    "    def fun(x, y, p):\n",
    "        \"\"\"Return dy/dx\"\"\"\n",
    "        l = p[0]\n",
    "        dy1_dx = y[1]\n",
    "        dy2_dx = (rho * g * (l ** 3) * x * np.cos(y[0])) / (b + c)\n",
    "        dy_dx = np.vstack((dy1_dx, dy2_dx))\n",
    "        return dy_dx\n",
    "\n",
    "    def bc(ya, yb, p):\n",
    "        \"\"\"\n",
    "        Boundary residuals.\n",
    "        \"\"\"\n",
    "        res1 = ya[0]\n",
    "        res2 = yb[0] - np.pi / 2\n",
    "        res3 = yb[1]\n",
    "        residuals = np.array([res1, res2, res3])\n",
    "        return residuals\n",
    "\n",
    "    # initialize\n",
    "    x = np.linspace(0, 1, 50)\n",
    "    y = np.zeros((2, x.size))\n",
    "    y[0, 0] = 0\n",
    "    y[0, -1] = np.pi / 2\n",
    "    y[1, -1] = 0\n",
    "\n",
    "    # solve\n",
    "    sol = si.solve_bvp(fun, bc, x, y, [l])\n",
    "    x = si.cumtrapz(sol.p[0] * np.cos(sol.y[0]), sol.x)\n",
    "    y = si.cumtrapz(sol.p[0] * np.sin(sol.y[0]), sol.x)\n",
    "    x -= x[0]\n",
    "    y -= y[0]\n",
    "    l = sol.p[0]\n",
    "    return sol, x, y"
   ]
  },
  {
   "cell_type": "code",
   "execution_count": 54,
   "id": "dcc221c7-d685-44dd-815e-26a06e715ba6",
   "metadata": {},
   "outputs": [],
   "source": [
    "bests_list = []  # (b, lg, j*, l*) tuples\n",
    "for b in bs:\n",
    "    for lg in lgs:\n",
    "        cs = np.linspace(b / 10, 10 * b, 10)\n",
    "        cost_list = []\n",
    "        l_list = []\n",
    "        active_mag_list = []\n",
    "        for c in cs:\n",
    "            sol, x, y = run_sim(b, c, l=1)\n",
    "\n",
    "            # check constraints and convergence\n",
    "            c0 = sol.status == 0\n",
    "            c1 = sol.p[0] < L\n",
    "            c2 = sol.y[1][0] > 0\n",
    "            c3 = np.all((b + c) * sol.y[1] < M)\n",
    "\n",
    "            # if constraints satisfied, compute cost and add to list\n",
    "            if c0 and c1 and c2 and c3:\n",
    "                height = y[-1]\n",
    "                work_int = si.trapz(sol.y[1] ** 2, sol.x)\n",
    "                J = -alpha * height / l + (1 - alpha) * c / (2 * b) * work_int\n",
    "                cost_list.append(J)\n",
    "                l_list.append(sol.p[0])\n",
    "                active_mag_list.append(c)\n",
    "\n",
    "        try:\n",
    "            min_cost_arg = np.argmin(cost_list)\n",
    "            min_cost = cost_list[min_cost_arg]\n",
    "            l_star = l_list[min_cost_arg]\n",
    "            c_star = active_mag_list[min_cost_arg]\n",
    "        except:\n",
    "            min_cost = 1e6\n",
    "            l_star = 1e6\n",
    "\n",
    "        bests_list.append(\n",
    "            (\n",
    "                round(b, 3),\n",
    "                round(lg, 3),\n",
    "                round(min_cost, 3),\n",
    "                round(l_star, 3),\n",
    "                round(c_star, 3),\n",
    "            )\n",
    "        )"
   ]
  },
  {
   "cell_type": "code",
   "execution_count": 148,
   "id": "3d99a8bd-25d7-4c85-a22d-edd4f9eaa0c4",
   "metadata": {},
   "outputs": [],
   "source": [
    "# bests_list"
   ]
  },
  {
   "cell_type": "code",
   "execution_count": null,
   "id": "09406d72-dab9-44c9-a48f-8daf93d48da7",
   "metadata": {},
   "outputs": [],
   "source": [
    "sol, xx, yy = run_sim(0.1, 0.217)"
   ]
  },
  {
   "cell_type": "code",
   "execution_count": null,
   "id": "57146b87-2089-4cbf-bd39-41b3f49bb0e3",
   "metadata": {},
   "outputs": [],
   "source": [
    "plt.plot(xx, yy)\n",
    "plt.xlim([0, 5])\n",
    "plt.show()"
   ]
  },
  {
   "cell_type": "code",
   "execution_count": null,
   "id": "c8cda59c-8281-4480-96cc-ef0e44e419f2",
   "metadata": {},
   "outputs": [],
   "source": []
  },
  {
   "cell_type": "code",
   "execution_count": null,
   "id": "659545b4-e324-43c4-a62d-c828bf3909c6",
   "metadata": {},
   "outputs": [],
   "source": []
  },
  {
   "cell_type": "code",
   "execution_count": null,
   "id": "2100c116-d695-4a64-a865-bb4e5ca6a6b3",
   "metadata": {},
   "outputs": [],
   "source": []
  },
  {
   "cell_type": "code",
   "execution_count": 168,
   "id": "f78fa7dd-76eb-4fb4-a01b-0336b2ae9501",
   "metadata": {
    "tags": []
   },
   "outputs": [],
   "source": [
    "class Snake:\n",
    "    def __init__(self, B, c, l, rho, mesh_points=50):\n",
    "        self.g = -9.8\n",
    "        self.B = B\n",
    "        self.c = c\n",
    "        self.rho = rho\n",
    "        self.lg = (-self.B / (self.rho * self.g)) ** (1 / 3)\n",
    "        self.l = l\n",
    "        self.x = np.linspace(0, 1, mesh_points)\n",
    "        self.y = np.zeros((2, self.x.size))\n",
    "        self.make_initial_guesses()\n",
    "\n",
    "    def make_initial_guesses(self):\n",
    "        \"\"\"\n",
    "        Initial parameter guesses for usual boundary conditions.\n",
    "        \"\"\"\n",
    "        self.y[0, 0] = 0\n",
    "        self.y[0, -1] = np.pi / 2\n",
    "        self.y[1, -1] = 0\n",
    "\n",
    "    def fun_k(self, x, y, p):\n",
    "        l = p[0]\n",
    "        dy0_dx = y[1]\n",
    "        dy1_dx = (\n",
    "            self.B * (-l / self.lg) ** 3 * x * np.cos(y[0]) / (self.B + self.c)\n",
    "        )  # need -g\n",
    "        dy_dx = np.vstack((dy0_dx, dy1_dx))\n",
    "        return dy_dx\n",
    "\n",
    "    def bc(self, ya, yb, p):\n",
    "        res1 = ya[0]\n",
    "        res2 = yb[0] - np.pi / 2\n",
    "        res3 = yb[1]\n",
    "        residuals = np.array([res1, res2, res3])\n",
    "        return residuals\n",
    "\n",
    "    def solve(self):\n",
    "        self.sol = si.solve_bvp(\n",
    "            fun=self.fun_k, bc=self.bc, x=self.x, y=self.y, p=[self.l]\n",
    "        )\n",
    "        self.l = self.sol.p[0]\n",
    "        self.x_pos = si.cumtrapz(self.l * np.cos(self.sol.y[0]), self.sol.x, initial=0)\n",
    "        self.y_pos = si.cumtrapz(self.l * np.sin(self.sol.y[0]), self.sol.x, initial=0)\n",
    "\n",
    "    def cost(self, alpha=0.5):\n",
    "        height_term = self.y_pos[-1] / self.l\n",
    "        self.height_cost = -alpha * height_term\n",
    "        work_term = self.c / (2 * self.B) * si.trapz(self.sol.y[1] ** 2, self.sol.x)\n",
    "        self.work_cost = (1 - alpha) * work_term\n",
    "        cost = self.height_cost + self.work_cost\n",
    "        return cost"
   ]
  },
  {
   "cell_type": "code",
   "execution_count": 238,
   "id": "99023876-a577-429c-bc79-8b2d9677b1f4",
   "metadata": {},
   "outputs": [],
   "source": [
    "snake = Snake(B=1, c=1, l=-1, rho=10)"
   ]
  },
  {
   "cell_type": "code",
   "execution_count": 239,
   "id": "2e04d0c8-17e3-428c-a1fe-50aa37984dbb",
   "metadata": {},
   "outputs": [],
   "source": [
    "snake.solve()"
   ]
  },
  {
   "cell_type": "code",
   "execution_count": 254,
   "id": "6018ac43-f060-493e-bdab-3e7723c82cae",
   "metadata": {},
   "outputs": [
    {
     "data": {
      "image/png": "[encoded data removed]",
      "text/plain": [
       "<Figure size 432x288 with 1 Axes>"
      ]
     },
     "metadata": {
      "needs_background": "light"
     },
     "output_type": "display_data"
    }
   ],
   "source": [
    "plt.plot(snake.sol.x, snake.sol.y[0], label=r\"$\\theta$\")\n",
    "plt.plot(\n",
    "    snake.sol.x, snake.sol.y[1], label=r\"$\\frac{d\\theta}{d\\tilde{s}} =  l\\frac{m^a}{c}$\"\n",
    ")\n",
    "plt.xlabel(r\"$\\tilde{s}$\", fontsize=18)\n",
    "plt.legend(fontsize=18)\n",
    "plt.show()"
   ]
  },
  {
   "cell_type": "markdown",
   "id": "294b03f7-c32a-4025-86b2-6c0767311d15",
   "metadata": {},
   "source": [
    "Creating a plot of cost vs active moment scale for a fixed B and $l_g$"
   ]
  },
  {
   "cell_type": "code",
   "execution_count": 241,
   "id": "2eca99a1-7331-4015-90bc-b2f462fb13a2",
   "metadata": {},
   "outputs": [
    {
     "data": {
      "image/png": "[encoded data removed]",
      "text/plain": [
       "<Figure size 432x288 with 1 Axes>"
      ]
     },
     "metadata": {
      "needs_background": "light"
     },
     "output_type": "display_data"
    }
   ],
   "source": [
    "plt.plot(snake.x_pos, snake.y_pos)\n",
    "plt.xlim([0, 1])\n",
    "plt.title(\"Shape of snake\", fontsize=18)\n",
    "plt.show()"
   ]
  },
  {
   "cell_type": "code",
   "execution_count": 258,
   "id": "3863eaeb-852f-4105-ae54-b807b00fd519",
   "metadata": {
    "tags": []
   },
   "outputs": [
    {
     "name": "stdout",
     "output_type": "stream",
     "text": [
      "Failed!\n",
      "Failed!\n",
      "Failed!\n",
      "Failed!\n"
     ]
    }
   ],
   "source": [
    "rho = 1\n",
    "l = 3\n",
    "B = 0.01\n",
    "cs = np.linspace(0, 10 * B, 50)\n",
    "costs = []\n",
    "ls = []\n",
    "for c in cs:\n",
    "    snake = Snake(B=B, c=c, l=l, rho=rho)\n",
    "    snake.solve()\n",
    "    if snake.sol.status != 0:\n",
    "        print(\"Failed!\")\n",
    "    cost = snake.cost(alpha=0.9)\n",
    "    # print(f\"c is {round(c,3)}, Work cost is {round(snake.work_cost,3)}, height cost is {round(snake.height_cost,3)}\")\n",
    "    costs.append(cost)\n",
    "    ls.append(snake.l)"
   ]
  },
  {
   "cell_type": "code",
   "execution_count": 259,
   "id": "d52863bc-7c4e-456b-83fd-97bba017e017",
   "metadata": {},
   "outputs": [
    {
     "data": {
      "image/png": "[encoded data removed]",
      "text/plain": [
       "<Figure size 432x288 with 1 Axes>"
      ]
     },
     "metadata": {
      "needs_background": "light"
     },
     "output_type": "display_data"
    }
   ],
   "source": [
    "plt.plot(cs, costs)\n",
    "plt.xlabel(R\"$\\frac{c}{B}$\", fontsize=18)\n",
    "plt.ylabel(r\"$J(m^a)$\", fontsize=18)\n",
    "plt.title(\"Cost vs active moment magnitude\", fontsize=18)\n",
    "plt.show()"
   ]
  },
  {
   "cell_type": "code",
   "execution_count": 260,
   "id": "14232c32-ba5d-4602-a068-f913fa121e71",
   "metadata": {},
   "outputs": [
    {
     "data": {
      "image/png": "[encoded data removed]",
      "text/plain": [
       "<Figure size 432x288 with 1 Axes>"
      ]
     },
     "metadata": {
      "needs_background": "light"
     },
     "output_type": "display_data"
    }
   ],
   "source": [
    "plt.plot(cs, np.array(ls) / snake.lg)\n",
    "plt.xlabel(R\"$\\frac{c}{B}$\", fontsize=18)\n",
    "plt.ylabel(r\"$\\frac{l}{l_g}$\", fontsize=18)\n",
    "plt.title(\"length vs active moment magnitude\", fontsize=18)\n",
    "plt.show()"
   ]
  },
  {
   "cell_type": "code",
   "execution_count": 261,
   "id": "2cc09a2a-973a-44a9-b16d-33bda57a9c4a",
   "metadata": {},
   "outputs": [
    {
     "data": {
      "text/plain": [
       "0.10067569617235561"
      ]
     },
     "execution_count": 261,
     "metadata": {},
     "output_type": "execute_result"
    }
   ],
   "source": [
    "snake.lg"
   ]
  },
  {
   "cell_type": "code",
   "execution_count": null,
   "id": "0ac9e941-17c4-4299-b852-3c1d611964d9",
   "metadata": {},
   "outputs": [],
   "source": []
  }
 ],
 "metadata": {
  "kernelspec": {
   "display_name": "chameleon",
   "language": "python",
   "name": "chameleon"
  },
  "language_info": {
   "codemirror_mode": {
    "name": "ipython",
    "version": 3
   },
   "file_extension": ".py",
   "mimetype": "text/x-python",
   "name": "python",
   "nbconvert_exporter": "python",
   "pygments_lexer": "ipython3",
   "version": "3.7.4"
  }
 },
 "nbformat": 4,
 "nbformat_minor": 5
}
