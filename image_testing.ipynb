{
 "cells": [
  {
   "cell_type": "code",
   "execution_count": 1,
   "id": "7f1b6a30",
   "metadata": {},
   "outputs": [],
   "source": [
    "import skimage\n",
    "import numpy as np\n",
    "import matplotlib.pyplot as plt"
   ]
  },
  {
   "cell_type": "code",
   "execution_count": 2,
   "id": "4cef8965",
   "metadata": {},
   "outputs": [],
   "source": [
    "def load_image(img_path):\n",
    "    \"\"\"Read in image.\"\"\"\n",
    "    img = skimage.io.imread(img_path)\n",
    "    img = img[:, :, :3]\n",
    "    return img\n",
    "\n",
    "\n",
    "def to_gray(img):\n",
    "    \"\"\"Convert to grayscale.\"\"\"\n",
    "    bw_img = skimage.color.rgb2gray(img)\n",
    "    return bw_img\n",
    "\n",
    "\n",
    "def crop(bw_img):\n",
    "    \"\"\"Crop image so pegs are out of frame.\"\"\"\n",
    "    cropped = bw_img[500:-100, 300:500]\n",
    "    return cropped\n",
    "\n",
    "\n",
    "def mask_and_skeletonize(cropped_img, threshold=0.5):\n",
    "    \"\"\"Mask the non snake parts of the image and return the outline.\"\"\"\n",
    "    mask = (cropped_img < threshold).astype(\"uint8\")\n",
    "    skeleton = mask * cropped_img\n",
    "    return skeleton\n",
    "\n",
    "\n",
    "def process_and_get_skeleton(img_path):\n",
    "    \"\"\"Take in path to image and return skeleton of snake.\"\"\"\n",
    "    img = load_image(img_path)\n",
    "    bw = to_gray(img)\n",
    "    cropped = crop(bw)\n",
    "    skeleton = mask_and_skeletonize(cropped)\n",
    "    return skeleton\n",
    "\n",
    "\n",
    "def get_skeleton_pixels(skeleton):\n",
    "    \"\"\"\n",
    "    Get pixels describing the shape of the skeleton.\n",
    "\n",
    "    Parameters\n",
    "    ----------\n",
    "    skeleton : np.ndarray\n",
    "        Cropped 2D image of the snake skeleton.\n",
    "\n",
    "    Returns\n",
    "    -------\n",
    "    skelton_pixels : np.ndarray\n",
    "        2D array containing values where skeleton pixels are located.\n",
    "    \"\"\"\n",
    "    skeleton_pixels = np.argwhere(skeleton)\n",
    "    return skeleton_pixels\n",
    "\n",
    "\n",
    "def get_xy_pixel_coords(pixel_coords):\n",
    "    \"\"\"\n",
    "    Get x and y pixel values separately and create list of coordinates.\n",
    "\n",
    "    Parameters\n",
    "    ----------\n",
    "\n",
    "    pixel_coords : np.ndarray\n",
    "        Array with pixel coordinate tuples.\n",
    "\n",
    "    Returns\n",
    "    -------\n",
    "    coord_tuples : list\n",
    "        List of tuples with pixel coordinates.\n",
    "    \"\"\"\n",
    "    x = pixel_coords[:, 1]\n",
    "    y = pixel_coords[:, 0]\n",
    "    coord_tuples = list(zip(x, y))\n",
    "    return coord_tuples\n",
    "\n",
    "def get_unique_coord_vals(coords):\n",
    "    \"\"\"Get the unique x and y coordinates from the coordinate tuples.\"\"\"\n",
    "    unique_x = list(set([tup[0] for tup in xy_coords]))\n",
    "    unique_y = list(set([tup[1] for tup in xy_coords]))\n",
    "    return np.array(unique_x), np.array(unique_y)\n",
    "\n",
    "def average_x_for_given_y(y_val, tup_list):\n",
    "    \"\"\"Average x pixel value for a given y pixel value.\"\"\"\n",
    "    all_x_for_y = [tup[0] for tup in tup_list if tup[1] == y_val]\n",
    "    length = len(all_x_for_y)\n",
    "    summed = sum(all_x_for_y)\n",
    "    avg = summed / length\n",
    "    return avg\n",
    "\n",
    "def get_all_avg_x(unique_y, coord_tuples):\n",
    "    \"\"\"\n",
    "    Find the average x pixel for each value of y pixel.\n",
    "    \n",
    "    Do it this way because snake curves and looking at unique x doesn't\n",
    "    mean we are looking at a specific spot on the snake.\n",
    "    \"\"\"\n",
    "    average_x = []\n",
    "    for y in uni_y:\n",
    "        avg_x = average_x_for_given_y(y, coord_tuples)\n",
    "        average_x.append(avg_x)\n",
    "    average_x = np.array(average_x)\n",
    "    return average_x"
   ]
  },
  {
   "cell_type": "code",
   "execution_count": 3,
   "id": "654d525c",
   "metadata": {},
   "outputs": [],
   "source": [
    "skeleton = process_and_get_skeleton(\"snake_side.png\")\n",
    "skel_pixels = get_skeleton_pixels(skeleton)\n",
    "xy_coords = get_xy_pixel_coords(skel_pixels)\n",
    "uni_x, uni_y = get_unique_coord_vals(xy_coords)"
   ]
  },
  {
   "cell_type": "code",
   "execution_count": 5,
   "id": "4f75c83c",
   "metadata": {},
   "outputs": [],
   "source": [
    "average_x = get_all_avg_x(uni_y, coord_tuples=xy_coords)"
   ]
  },
  {
   "cell_type": "code",
   "execution_count": 6,
   "id": "86795549",
   "metadata": {},
   "outputs": [
    {
     "data": {
      "image/png": "[encoded data removed]",
      "text/plain": [
       "<Figure size 432x288 with 1 Axes>"
      ]
     },
     "metadata": {
      "needs_background": "light"
     },
     "output_type": "display_data"
    }
   ],
   "source": [
    "plt.scatter(average_x, -1 * uni_y)\n",
    "plt.xlim([0, 800])\n",
    "plt.show()"
   ]
  },
  {
   "cell_type": "code",
   "execution_count": null,
   "id": "a128393c",
   "metadata": {},
   "outputs": [],
   "source": [
    "img = load_image(\"snake_side.png\")\n",
    "bw_img = to_gray(img)\n",
    "cropped = crop(bw_img)"
   ]
  },
  {
   "cell_type": "code",
   "execution_count": null,
   "id": "90429686",
   "metadata": {},
   "outputs": [],
   "source": [
    "skimage.io.imshow(cropped)"
   ]
  },
  {
   "cell_type": "code",
   "execution_count": 19,
   "id": "148e1e83",
   "metadata": {},
   "outputs": [],
   "source": [
    "skeleton_pixels = list(zip(average_x, uni_y))\n",
    "x_int = np.array([int(x) for x in average_x])"
   ]
  },
  {
   "cell_type": "code",
   "execution_count": 22,
   "id": "7e3d2ded",
   "metadata": {},
   "outputs": [],
   "source": [
    "skel = np.zeros((986, 200))"
   ]
  },
  {
   "cell_type": "code",
   "execution_count": 31,
   "id": "32b5bc50",
   "metadata": {},
   "outputs": [],
   "source": [
    "bare_skel_coords = list(zip(uni_y, x_int))"
   ]
  },
  {
   "cell_type": "code",
   "execution_count": 32,
   "id": "6daff535",
   "metadata": {},
   "outputs": [],
   "source": [
    "for b in bare_skel_coords:\n",
    "    skel[b] = 1"
   ]
  },
  {
   "cell_type": "code",
   "execution_count": 36,
   "id": "024f7450",
   "metadata": {},
   "outputs": [
    {
     "data": {
      "text/plain": [
       "<matplotlib.image.AxesImage at 0x7fec05ab93a0>"
      ]
     },
     "execution_count": 36,
     "metadata": {},
     "output_type": "execute_result"
    },
    {
     "data": {
      "image/png": "[encoded data removed]",
      "text/plain": [
       "<Figure size 576x576 with 1 Axes>"
      ]
     },
     "metadata": {
      "needs_background": "light"
     },
     "output_type": "display_data"
    }
   ],
   "source": [
    "plt.figure(figsize=(8,8))\n",
    "plt.imshow(skel)"
   ]
  },
  {
   "cell_type": "code",
   "execution_count": null,
   "id": "2fc93e1e",
   "metadata": {},
   "outputs": [],
   "source": []
  }
 ],
 "metadata": {
  "kernelspec": {
   "display_name": "deeplabcut",
   "language": "python",
   "name": "deeplabcut"
  },
  "language_info": {
   "codemirror_mode": {
    "name": "ipython",
    "version": 3
   },
   "file_extension": ".py",
   "mimetype": "text/x-python",
   "name": "python",
   "nbconvert_exporter": "python",
   "pygments_lexer": "ipython3",
   "version": "3.8.13"
  }
 },
 "nbformat": 4,
 "nbformat_minor": 5
}
